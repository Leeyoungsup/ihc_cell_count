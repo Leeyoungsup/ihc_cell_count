{
 "cells": [
  {
   "cell_type": "code",
   "execution_count": 1,
   "id": "7f827039",
   "metadata": {},
   "outputs": [
    {
     "name": "stdout",
     "output_type": "stream",
     "text": [
      "device: cuda:0\n"
     ]
    }
   ],
   "source": [
    "import copy\n",
    "import csv\n",
    "import os\n",
    "import warnings\n",
    "from argparse import ArgumentParser\n",
    "\n",
    "import torch\n",
    "import tqdm\n",
    "import yaml\n",
    "from torch.utils import data\n",
    "# 개별 json 라벨 파일을 이용해 학습 데이터 리스트 생성\n",
    "import glob\n",
    "import json\n",
    "import os\n",
    "from nets import nn\n",
    "from utils import util\n",
    "from utils.dataset import Dataset\n",
    "from torch.utils import data\n",
    "import numpy as np\n",
    "import cv2\n",
    "import random\n",
    "import matplotlib.pyplot as plt\n",
    "import matplotlib.pyplot as plt\n",
    "import matplotlib.patches as patches\n",
    "device=torch.device(\"cuda:0\" if torch.cuda.is_available() else \"cpu\")\n",
    "print(\"device:\",device)"
   ]
  },
  {
   "cell_type": "code",
   "execution_count": 2,
   "id": "e76e71dd",
   "metadata": {},
   "outputs": [],
   "source": [
    "\n",
    "# 파라미터 및 데이터 경로 설정\n",
    "with open('utils/args.yaml', errors='ignore') as f:\n",
    "    params = yaml.safe_load(f) \n",
    "\n",
    "params['name']={0: 'pd-l1 negative tumor cell',\n",
    "  1: 'pd-l1 positive tumor cell'}\n",
    "label_dir = '../../data/IGNITE/annotations/pdl1/individual/'\n",
    "image_dir = '../../data/IGNITE/images/pdl1/pdl1/'\n",
    "\n",
    "label_files = sorted(glob.glob(os.path.join(label_dir, '*.json')))\n",
    "filenames = []\n",
    "labels = []\n",
    "for label_file in label_files:\n",
    "    with open(label_file) as f:\n",
    "        data1 = json.load(f)\n",
    "    img_path = os.path.join(image_dir, data1['image']['file_name'])\n",
    "    if os.path.exists(img_path):\n",
    "        filenames.append(img_path)\n",
    "        temp_labels = []\n",
    "        for i in range(len(data1['annotations'])):\n",
    "            if data1['annotations'][i]['category_id']==3:\n",
    "                continue\n",
    "            else:\n",
    "                temp_labels.append([data1['annotations'][i]['category_id'],int(data1['annotations'][i]['bbox'][0]),\n",
    "                         int(data1['annotations'][i]['bbox'][1]),int(data1['annotations'][i]['bbox'][2]),int(data1['annotations'][i]['bbox'][3])])\n",
    "        labels.append(temp_labels)\n"
   ]
  },
  {
   "cell_type": "code",
   "execution_count": 3,
   "id": "23c0666d",
   "metadata": {},
   "outputs": [
    {
     "name": "stderr",
     "output_type": "stream",
     "text": [
      "/usr/local/lib/python3.12/dist-packages/albumentations/__init__.py:28: UserWarning: A new version of Albumentations is available: '2.0.8' (you have '2.0.3'). Upgrade using: pip install -U albumentations. To disable automatic update checks, set the environment variable NO_ALBUMENTATIONS_UPDATE to 1.\n",
      "  check_for_updates()\n",
      "/usr/local/lib/python3.12/dist-packages/albumentations/core/composition.py:251: UserWarning: Got processor for bboxes, but no transform to process it.\n",
      "  self._set_keys()\n"
     ]
    }
   ],
   "source": [
    "class custom_dataset(data.Dataset):\n",
    "    def __init__(self, filenames, input_size, params, augment, labels=None, image_infos=None):\n",
    "        self.params = params\n",
    "        self.mosaic = augment\n",
    "        self.augment = augment\n",
    "        self.input_size = input_size\n",
    "        if labels is not None:\n",
    "            self.labels = labels\n",
    "            self.filenames = filenames\n",
    "            self.n = len(self.filenames)\n",
    "            self.image_infos = image_infos if image_infos is not None else [None]*len(filenames)\n",
    "        else:\n",
    "            loaded = self.load_label(filenames)\n",
    "            self.labels = list(loaded.values())\n",
    "            self.filenames = list(loaded.keys())\n",
    "            self.n = len(self.filenames)\n",
    "            self.image_infos = [None]*self.n\n",
    "        self.indices = range(self.n)\n",
    "        self.albumentations = Albumentations()\n",
    "    def __len__(self):\n",
    "        return self.n\n",
    "    def __getitem__(self, index):\n",
    "        index = self.indices[index]\n",
    "        temp_label = copy.deepcopy(self.labels[index])\n",
    "        \n",
    "        image,crop_index=self.load_image(index)\n",
    "        \n",
    "        crop_x, crop_y = crop_index\n",
    "        label=[]\n",
    "        #y,x,h,w, to x_center,y_center,w,h\n",
    "        for i in range(len(temp_label)):\n",
    "            x = temp_label[i][2]\n",
    "            y = temp_label[i][1]\n",
    "            w = temp_label[i][4]\n",
    "            h = temp_label[i][3]\n",
    "            if x >= crop_x+5 and y >= crop_y+5 and x <= crop_x + self.input_size-5 and y <= crop_y + self.input_size-5:\n",
    "                temp_label[i][1] = (y+h/2 - crop_y)/ self.input_size\n",
    "                temp_label[i][2] = (x+w/2 - crop_x)/ self.input_size\n",
    "                temp_label[i][3] = (h) / self.input_size\n",
    "                temp_label[i][4] = (w) / self.input_size\n",
    "                label.append(temp_label[i])\n",
    "\n",
    "        cls=[]\n",
    "        box=[]\n",
    "        for i in range(len(label)):\n",
    "            cls.append(label[i][0])\n",
    "            box.append(label[i][1:5])\n",
    "        cls=np.array(cls)-1 # class index 0부터 시작하도록 변경\n",
    "        box=np.array(box)\n",
    "        nl = len(box)\n",
    "        if self.augment:\n",
    "            nl = len(box)  # update after albumentations\n",
    "\n",
    "            # Flip up-down\n",
    "            if random.random() < self.params['flip_ud']:\n",
    "                image = np.flipud(image).copy()\n",
    "                if nl:\n",
    "                    box[:, 1] = 1 - box[:, 1]\n",
    "            # Flip left-right\n",
    "            if random.random() < self.params['flip_lr']:\n",
    "                image = np.fliplr(image).copy()\n",
    "                if nl:\n",
    "                    box[:, 0] = 1 - box[:, 0]\n",
    "\n",
    "        image = image.transpose((2, 0, 1))\n",
    "        return torch.from_numpy(image),torch.from_numpy(cls), torch.from_numpy(box), torch.zeros(nl)\n",
    "\n",
    "    def load_image(self, i):\n",
    "        image = cv2.imread(self.filenames[i])\n",
    "        image = cv2.cvtColor(image, cv2.COLOR_BGR2RGB)  # BGR -> RGB 변환\n",
    "        h, w = image.shape[:2]\n",
    "        r = self.input_size / min(h, w)\n",
    "        \n",
    "        # 이미지가 input_size보다 큰 경우 (r < 1) -> 랜덤 크롭\n",
    "        if r < 1:\n",
    "            # 안전하게 크롭 범위 계산\n",
    "            max_h = max(0, h - self.input_size)\n",
    "            max_w = max(0, w - self.input_size)\n",
    "            h1 = random.randint(0, max_h) if max_h > 0 else 0\n",
    "            w1 = random.randint(0, max_w) if max_w > 0 else 0\n",
    "            image = image[h1:h1 + self.input_size, w1:w1 + self.input_size]\n",
    "        else:\n",
    "            # 이미지가 input_size보다 작거나 같은 경우 (r >= 1) -> 패딩\n",
    "            h1 = 0\n",
    "            w1 = 0\n",
    "            pad_image = np.ones((self.input_size, self.input_size, 3), dtype=np.uint8)*255\n",
    "            pad_image[:min(h,self.input_size), :min(w,self.input_size), :] = image[:min(h,self.input_size), :min(w,self.input_size), :]\n",
    "            image = pad_image\n",
    "        return image, (h1, w1)\n",
    "\n",
    "\n",
    "    \n",
    "    \n",
    "class Albumentations:\n",
    "    def __init__(self):\n",
    "        self.transform = None\n",
    "        try:\n",
    "            import albumentations\n",
    "\n",
    "            transforms = [albumentations.Blur(p=0.01),\n",
    "                          albumentations.CLAHE(p=0.01),\n",
    "                          albumentations.ToGray(p=0.01),\n",
    "                          albumentations.MedianBlur(p=0.01)]\n",
    "            self.transform = albumentations.Compose(transforms,\n",
    "                                                    albumentations.BboxParams('yolo', ['class_labels']))\n",
    "\n",
    "        except ImportError:  # package not installed, skip\n",
    "            pass\n",
    "\n",
    "    def __call__(self, image, box, cls):\n",
    "        if self.transform:\n",
    "            x = self.transform(image=image,\n",
    "                               bboxes=box,\n",
    "                               class_labels=cls)\n",
    "            image = x['image']\n",
    "            box = np.array(x['bboxes'])\n",
    "            cls = np.array(x['class_labels'])\n",
    "        return image, box, cls\n",
    "\n",
    "split=[0.9, 0.1]\n",
    "train_dataset=custom_dataset(filenames[:int(len(filenames)*split[0])],512, params, augment=True, labels=labels[:int(len(filenames)*split[0])])\n",
    "val_dataset = custom_dataset(filenames[int(len(filenames)*split[0]):],512, params, augment=False, labels=labels[int(len(filenames)*split[0]):])"
   ]
  },
  {
   "cell_type": "code",
   "execution_count": null,
   "id": "872981f1",
   "metadata": {},
   "outputs": [
    {
     "name": "stdout",
     "output_type": "stream",
     "text": [
      "참고: 데이터셋 크기(309)가 배치 크기(4)로 나누어 떨어지지 않습니다.\n",
      "마지막 배치는 1개의 샘플을 포함합니다.\n",
      "최종 훈련 배치 크기: 4\n",
      "최종 검증 배치 크기: 1\n"
     ]
    }
   ],
   "source": [
    "def collate_fn1(batch):\n",
    "    samples, cls, box, indices = zip(*batch)\n",
    "\n",
    "    cls = torch.cat(cls, dim=0)\n",
    "    box = torch.cat(box, dim=0)\n",
    "\n",
    "    new_indices = list(indices)\n",
    "    for i in range(len(indices)):\n",
    "        new_indices[i] += i\n",
    "    indices = torch.cat(new_indices, dim=0)\n",
    "\n",
    "    targets = {'cls': cls,\n",
    "                'box': box,\n",
    "                'idx': indices}\n",
    "    return torch.stack(samples, dim=0), targets\n",
    "\n",
    "\n",
    "# 모델 및 파라미터 준비\n",
    "model = nn.yolo_v11_m(len(params['names'])).to(device)\n",
    "optimizer = torch.optim.SGD(util.set_params(model, params['weight_decay']),\n",
    "                            2e-5, params['momentum'], nesterov=True)\n",
    "criterion = util.ComputeLoss(model, params)\n",
    "\n",
    "# 데이터셋 및 데이터로드 (안전한 함수 사용)\n",
    "batch_size = 8\n",
    "# 안전하게 데이터로더 생성하는 함수\n",
    "def create_safe_loader(dataset, batch_size, is_train=True):\n",
    "    \"\"\"\n",
    "    배치 크기에 맞게 데이터셋을 조정하여 안전하게 데이터로더를 생성하는 함수\n",
    "    \"\"\"\n",
    "    dataset_size = len(dataset)\n",
    "    \n",
    "    # 배치 크기가 데이터셋 크기보다 큰 경우 배치 크기 조정\n",
    "    if dataset_size < batch_size:\n",
    "        print(f\"경고: 데이터셋 크기({dataset_size})가 배치 크기({batch_size})보다 작습니다. 배치 크기를 {dataset_size}로 조정합니다.\")\n",
    "        actual_batch_size = max(1, dataset_size)\n",
    "    else:\n",
    "        actual_batch_size = batch_size\n",
    "    \n",
    "    # 데이터셋이 배치 크기로 나누어 떨어지는지 확인\n",
    "    if dataset_size % actual_batch_size != 0:\n",
    "        print(f\"참고: 데이터셋 크기({dataset_size})가 배치 크기({actual_batch_size})로 나누어 떨어지지 않습니다.\")\n",
    "        print(f\"마지막 배치는 {dataset_size % actual_batch_size}개의 샘플을 포함합니다.\")\n",
    "    \n",
    "    # 데이터로더 생성\n",
    "    loader = torch.utils.data.DataLoader(\n",
    "        dataset, \n",
    "        batch_size=actual_batch_size, \n",
    "        shuffle=is_train,\n",
    "        num_workers=4,\n",
    "        collate_fn=collate_fn1,\n",
    "        drop_last=(not is_train)  # 훈련 시에는 마지막 배치 유지, 검증 시에는 마지막 배치 제외\n",
    "    )\n",
    "    \n",
    "    return loader, actual_batch_size\n",
    "# 안전하게 데이터로더 생성\n",
    "loader, train_batch_size = create_safe_loader(train_dataset, batch_size, is_train=True)\n",
    "val_loader, val_batch_size = create_safe_loader(val_dataset, 1, is_train=False)\n",
    "\n",
    "print(f\"최종 훈련 배치 크기: {train_batch_size}\")\n",
    "print(f\"최종 검증 배치 크기: {val_batch_size}\")\n",
    "\n"
   ]
  },
  {
   "cell_type": "code",
   "execution_count": 7,
   "id": "ba3682b8",
   "metadata": {},
   "outputs": [
    {
     "name": "stdout",
     "output_type": "stream",
     "text": [
      "Gradient accumulation steps: 16\n"
     ]
    },
    {
     "name": "stderr",
     "output_type": "stream",
     "text": [
      "Epoch 1/10000 | Memory: 3.11G | Box: 3.278 | Cls: 4.559 | DFL: 3.819: 100%|██████████| 78/78 [00:09<00:00,  7.84it/s] \n"
     ]
    },
    {
     "name": "stdout",
     "output_type": "stream",
     "text": [
      "\n",
      "Epoch 1/10000 Results:\n",
      "  Train Loss - Box: 3.2781, Cls: 4.5589, DFL: 3.8185, Total: 11.6556\n",
      "  Validation - Precision: 0.0265, Recall: 0.0772, F1-score: 0.0395\n",
      "  mAP@0.5: 0.0157, mAP@0.5:0.95: 0.0052\n",
      "  Cohen's Kappa: 0.1537 (Slight)\n",
      "--------------------------------------------------------------------------------\n",
      "🎉 새로운 베스트 모델 저장! mAP: 0.0052, Kappa: 0.1537\n"
     ]
    },
    {
     "name": "stderr",
     "output_type": "stream",
     "text": [
      "Epoch 2/10000 | Memory: 3.11G | Box: 3.166 | Cls: 4.436 | DFL: 3.569: 100%|██████████| 78/78 [00:10<00:00,  7.42it/s]\n"
     ]
    },
    {
     "name": "stdout",
     "output_type": "stream",
     "text": [
      "\n",
      "Epoch 2/10000 Results:\n",
      "  Train Loss - Box: 3.1657, Cls: 4.4361, DFL: 3.5690, Total: 11.1708\n",
      "  Validation - Precision: 0.0241, Recall: 0.0954, F1-score: 0.0385\n",
      "  mAP@0.5: 0.0146, mAP@0.5:0.95: 0.0045\n",
      "  Cohen's Kappa: 0.0915 (Slight)\n",
      "--------------------------------------------------------------------------------\n"
     ]
    },
    {
     "name": "stderr",
     "output_type": "stream",
     "text": [
      "Epoch 3/10000 | Memory: 3.11G | Box: 3.131 | Cls: 3.806 | DFL: 3.065: 100%|██████████| 78/78 [00:10<00:00,  7.57it/s]\n"
     ]
    },
    {
     "name": "stdout",
     "output_type": "stream",
     "text": [
      "\n",
      "Epoch 3/10000 Results:\n",
      "  Train Loss - Box: 3.1314, Cls: 3.8059, DFL: 3.0651, Total: 10.0024\n",
      "  Validation - Precision: 0.0541, Recall: 0.1966, F1-score: 0.0849\n",
      "  mAP@0.5: 0.0386, mAP@0.5:0.95: 0.0127\n",
      "  Cohen's Kappa: 0.1293 (Slight)\n",
      "--------------------------------------------------------------------------------\n",
      "🎉 새로운 베스트 모델 저장! mAP: 0.0127, Kappa: 0.1293\n"
     ]
    },
    {
     "name": "stderr",
     "output_type": "stream",
     "text": [
      "Epoch 4/10000 | Memory: 3.11G | Box: 3.062 | Cls: 3.188 | DFL: 2.493: 100%|██████████| 78/78 [00:11<00:00,  7.04it/s]\n"
     ]
    },
    {
     "name": "stdout",
     "output_type": "stream",
     "text": [
      "\n",
      "Epoch 4/10000 Results:\n",
      "  Train Loss - Box: 3.0623, Cls: 3.1884, DFL: 2.4934, Total: 8.7441\n",
      "  Validation - Precision: 0.0673, Recall: 0.2136, F1-score: 0.1024\n",
      "  mAP@0.5: 0.0466, mAP@0.5:0.95: 0.0151\n",
      "  Cohen's Kappa: 0.1778 (Slight)\n",
      "--------------------------------------------------------------------------------\n",
      "🎉 새로운 베스트 모델 저장! mAP: 0.0151, Kappa: 0.1778\n"
     ]
    },
    {
     "name": "stderr",
     "output_type": "stream",
     "text": [
      "Epoch 5/10000 | Memory: 3.11G | Box: 2.916 | Cls: 2.904 | DFL: 1.989: 100%|██████████| 78/78 [00:10<00:00,  7.24it/s]\n"
     ]
    },
    {
     "name": "stdout",
     "output_type": "stream",
     "text": [
      "\n",
      "Epoch 5/10000 Results:\n",
      "  Train Loss - Box: 2.9163, Cls: 2.9041, DFL: 1.9888, Total: 7.8092\n",
      "  Validation - Precision: 0.1103, Recall: 0.2429, F1-score: 0.1517\n",
      "  mAP@0.5: 0.0700, mAP@0.5:0.95: 0.0205\n",
      "  Cohen's Kappa: 0.2256 (Fair)\n",
      "--------------------------------------------------------------------------------\n",
      "🎉 새로운 베스트 모델 저장! mAP: 0.0205, Kappa: 0.2256\n"
     ]
    },
    {
     "name": "stderr",
     "output_type": "stream",
     "text": [
      "Epoch 6/10000 | Memory: 3.324G | Box: 2.908 | Cls: 2.391 | DFL: 1.759: 100%|██████████| 78/78 [00:09<00:00,  7.95it/s]\n"
     ]
    },
    {
     "name": "stdout",
     "output_type": "stream",
     "text": [
      "\n",
      "Epoch 6/10000 Results:\n",
      "  Train Loss - Box: 2.9078, Cls: 2.3915, DFL: 1.7587, Total: 7.0580\n",
      "  Validation - Precision: 0.1243, Recall: 0.3380, F1-score: 0.1818\n",
      "  mAP@0.5: 0.0902, mAP@0.5:0.95: 0.0255\n",
      "  Cohen's Kappa: 0.2708 (Fair)\n",
      "--------------------------------------------------------------------------------\n",
      "🎉 새로운 베스트 모델 저장! mAP: 0.0255, Kappa: 0.2708\n"
     ]
    },
    {
     "name": "stderr",
     "output_type": "stream",
     "text": [
      "Epoch 7/10000 | Memory: 3.324G | Box: 2.798 | Cls: 3.478 | DFL: 1.529: 100%|██████████| 78/78 [00:10<00:00,  7.61it/s]\n"
     ]
    },
    {
     "name": "stdout",
     "output_type": "stream",
     "text": [
      "\n",
      "Epoch 7/10000 Results:\n",
      "  Train Loss - Box: 2.7978, Cls: 3.4784, DFL: 1.5294, Total: 7.8056\n",
      "  Validation - Precision: 0.1513, Recall: 0.3540, F1-score: 0.2120\n",
      "  mAP@0.5: 0.1215, mAP@0.5:0.95: 0.0354\n",
      "  Cohen's Kappa: 0.2681 (Fair)\n",
      "--------------------------------------------------------------------------------\n",
      "🎉 새로운 베스트 모델 저장! mAP: 0.0354, Kappa: 0.2681\n"
     ]
    },
    {
     "name": "stderr",
     "output_type": "stream",
     "text": [
      "Epoch 8/10000 | Memory: 3.324G | Box: 2.714 | Cls: 2.300 | DFL: 1.454: 100%|██████████| 78/78 [00:11<00:00,  7.00it/s]\n"
     ]
    },
    {
     "name": "stdout",
     "output_type": "stream",
     "text": [
      "\n",
      "Epoch 8/10000 Results:\n",
      "  Train Loss - Box: 2.7139, Cls: 2.3001, DFL: 1.4542, Total: 6.4682\n",
      "  Validation - Precision: 0.1773, Recall: 0.3760, F1-score: 0.2409\n",
      "  mAP@0.5: 0.1441, mAP@0.5:0.95: 0.0476\n",
      "  Cohen's Kappa: 0.2631 (Fair)\n",
      "--------------------------------------------------------------------------------\n",
      "🎉 새로운 베스트 모델 저장! mAP: 0.0476, Kappa: 0.2631\n"
     ]
    },
    {
     "name": "stderr",
     "output_type": "stream",
     "text": [
      "Epoch 9/10000 | Memory: 3.324G | Box: 2.555 | Cls: 2.269 | DFL: 1.379: 100%|██████████| 78/78 [00:10<00:00,  7.43it/s]\n"
     ]
    },
    {
     "name": "stdout",
     "output_type": "stream",
     "text": [
      "\n",
      "Epoch 9/10000 Results:\n",
      "  Train Loss - Box: 2.5550, Cls: 2.2686, DFL: 1.3786, Total: 6.2023\n",
      "  Validation - Precision: 0.2033, Recall: 0.3996, F1-score: 0.2695\n",
      "  mAP@0.5: 0.1680, mAP@0.5:0.95: 0.0577\n",
      "  Cohen's Kappa: 0.3136 (Fair)\n",
      "--------------------------------------------------------------------------------\n",
      "🎉 새로운 베스트 모델 저장! mAP: 0.0577, Kappa: 0.3136\n"
     ]
    },
    {
     "name": "stderr",
     "output_type": "stream",
     "text": [
      "Epoch 10/10000 | Memory: 3.324G | Box: 2.456 | Cls: 2.109 | DFL: 1.325: 100%|██████████| 78/78 [00:10<00:00,  7.29it/s]\n"
     ]
    },
    {
     "name": "stdout",
     "output_type": "stream",
     "text": [
      "\n",
      "Epoch 10/10000 Results:\n",
      "  Train Loss - Box: 2.4559, Cls: 2.1088, DFL: 1.3252, Total: 5.8898\n",
      "  Validation - Precision: 0.2251, Recall: 0.3769, F1-score: 0.2819\n",
      "  mAP@0.5: 0.1936, mAP@0.5:0.95: 0.0716\n",
      "  Cohen's Kappa: 0.3308 (Fair)\n",
      "--------------------------------------------------------------------------------\n",
      "🎉 새로운 베스트 모델 저장! mAP: 0.0716, Kappa: 0.3308\n",
      "\n",
      "📊 Epoch 10 - 검증 샘플 1/1:\n",
      "============================================================\n",
      "✅ 비교 이미지 저장: ../../model/2class_yolov11/validation_comparison_epoch_10.png\n"
     ]
    },
    {
     "name": "stderr",
     "output_type": "stream",
     "text": [
      "Epoch 11/10000 | Memory: 3.324G | Box: 2.380 | Cls: 2.062 | DFL: 1.257: 100%|██████████| 78/78 [00:09<00:00,  8.05it/s]\n"
     ]
    },
    {
     "name": "stdout",
     "output_type": "stream",
     "text": [
      "\n",
      "Epoch 11/10000 Results:\n",
      "  Train Loss - Box: 2.3797, Cls: 2.0617, DFL: 1.2574, Total: 5.6988\n",
      "  Validation - Precision: 0.2336, Recall: 0.3861, F1-score: 0.2911\n",
      "  mAP@0.5: 0.1947, mAP@0.5:0.95: 0.0726\n",
      "  Cohen's Kappa: 0.3159 (Fair)\n",
      "--------------------------------------------------------------------------------\n",
      "🎉 새로운 베스트 모델 저장! mAP: 0.0726, Kappa: 0.3159\n"
     ]
    },
    {
     "name": "stderr",
     "output_type": "stream",
     "text": [
      "Epoch 12/10000 | Memory: 3.324G | Box: 2.310 | Cls: 2.349 | DFL: 1.208: 100%|██████████| 78/78 [00:10<00:00,  7.36it/s]\n"
     ]
    },
    {
     "name": "stdout",
     "output_type": "stream",
     "text": [
      "\n",
      "Epoch 12/10000 Results:\n",
      "  Train Loss - Box: 2.3103, Cls: 2.3489, DFL: 1.2079, Total: 5.8671\n",
      "  Validation - Precision: 0.2383, Recall: 0.4284, F1-score: 0.3062\n",
      "  mAP@0.5: 0.2082, mAP@0.5:0.95: 0.0837\n",
      "  Cohen's Kappa: 0.2719 (Fair)\n",
      "--------------------------------------------------------------------------------\n",
      "🎉 새로운 베스트 모델 저장! mAP: 0.0837, Kappa: 0.2719\n"
     ]
    },
    {
     "name": "stderr",
     "output_type": "stream",
     "text": [
      "Epoch 13/10000 | Memory: 3.324G | Box: 2.321 | Cls: 2.078 | DFL: 1.206: 100%|██████████| 78/78 [00:11<00:00,  6.94it/s]\n"
     ]
    },
    {
     "name": "stdout",
     "output_type": "stream",
     "text": [
      "\n",
      "Epoch 13/10000 Results:\n",
      "  Train Loss - Box: 2.3213, Cls: 2.0780, DFL: 1.2059, Total: 5.6053\n",
      "  Validation - Precision: 0.2675, Recall: 0.3972, F1-score: 0.3196\n",
      "  mAP@0.5: 0.2205, mAP@0.5:0.95: 0.0907\n",
      "  Cohen's Kappa: 0.2097 (Slight)\n",
      "--------------------------------------------------------------------------------\n",
      "🎉 새로운 베스트 모델 저장! mAP: 0.0907, Kappa: 0.2097\n"
     ]
    },
    {
     "name": "stderr",
     "output_type": "stream",
     "text": [
      "Epoch 14/10000 | Memory: 3.324G | Box: 2.275 | Cls: 2.399 | DFL: 1.180: 100%|██████████| 78/78 [00:10<00:00,  7.49it/s]\n"
     ]
    },
    {
     "name": "stdout",
     "output_type": "stream",
     "text": [
      "\n",
      "Epoch 14/10000 Results:\n",
      "  Train Loss - Box: 2.2748, Cls: 2.3989, DFL: 1.1803, Total: 5.8539\n",
      "  Validation - Precision: 0.2662, Recall: 0.4474, F1-score: 0.3338\n",
      "  mAP@0.5: 0.2353, mAP@0.5:0.95: 0.0965\n",
      "  Cohen's Kappa: 0.2714 (Fair)\n",
      "--------------------------------------------------------------------------------\n",
      "🎉 새로운 베스트 모델 저장! mAP: 0.0965, Kappa: 0.2714\n"
     ]
    },
    {
     "name": "stderr",
     "output_type": "stream",
     "text": [
      "Epoch 15/10000 | Memory: 3.324G | Box: 2.213 | Cls: 2.004 | DFL: 1.146: 100%|██████████| 78/78 [00:11<00:00,  7.02it/s]\n"
     ]
    },
    {
     "name": "stdout",
     "output_type": "stream",
     "text": [
      "\n",
      "Epoch 15/10000 Results:\n",
      "  Train Loss - Box: 2.2134, Cls: 2.0037, DFL: 1.1457, Total: 5.3628\n",
      "  Validation - Precision: 0.2919, Recall: 0.4311, F1-score: 0.3481\n",
      "  mAP@0.5: 0.2524, mAP@0.5:0.95: 0.1038\n",
      "  Cohen's Kappa: 0.2669 (Fair)\n",
      "--------------------------------------------------------------------------------\n",
      "🎉 새로운 베스트 모델 저장! mAP: 0.1038, Kappa: 0.2669\n"
     ]
    },
    {
     "name": "stderr",
     "output_type": "stream",
     "text": [
      "Epoch 16/10000 | Memory: 3.324G | Box: 2.212 | Cls: 2.060 | DFL: 1.144: 100%|██████████| 78/78 [00:11<00:00,  6.96it/s]\n"
     ]
    },
    {
     "name": "stdout",
     "output_type": "stream",
     "text": [
      "\n",
      "Epoch 16/10000 Results:\n",
      "  Train Loss - Box: 2.2118, Cls: 2.0603, DFL: 1.1443, Total: 5.4164\n",
      "  Validation - Precision: 0.3261, Recall: 0.4462, F1-score: 0.3768\n",
      "  mAP@0.5: 0.2725, mAP@0.5:0.95: 0.1113\n",
      "  Cohen's Kappa: 0.2728 (Fair)\n",
      "--------------------------------------------------------------------------------\n",
      "🎉 새로운 베스트 모델 저장! mAP: 0.1113, Kappa: 0.2728\n"
     ]
    },
    {
     "name": "stderr",
     "output_type": "stream",
     "text": [
      "Epoch 17/10000 | Memory: 3.324G | Box: 2.178 | Cls: 2.090 | DFL: 1.119: 100%|██████████| 78/78 [00:10<00:00,  7.60it/s]\n"
     ]
    },
    {
     "name": "stdout",
     "output_type": "stream",
     "text": [
      "\n",
      "Epoch 17/10000 Results:\n",
      "  Train Loss - Box: 2.1775, Cls: 2.0905, DFL: 1.1190, Total: 5.3870\n",
      "  Validation - Precision: 0.3665, Recall: 0.4784, F1-score: 0.4151\n",
      "  mAP@0.5: 0.3408, mAP@0.5:0.95: 0.1416\n",
      "  Cohen's Kappa: 0.2953 (Fair)\n",
      "--------------------------------------------------------------------------------\n",
      "🎉 새로운 베스트 모델 저장! mAP: 0.1416, Kappa: 0.2953\n"
     ]
    },
    {
     "name": "stderr",
     "output_type": "stream",
     "text": [
      "Epoch 18/10000 | Memory: 3.324G | Box: 2.150 | Cls: 1.989 | DFL: 1.109: 100%|██████████| 78/78 [00:11<00:00,  6.73it/s]\n"
     ]
    },
    {
     "name": "stdout",
     "output_type": "stream",
     "text": [
      "\n",
      "Epoch 18/10000 Results:\n",
      "  Train Loss - Box: 2.1503, Cls: 1.9887, DFL: 1.1094, Total: 5.2483\n",
      "  Validation - Precision: 0.3569, Recall: 0.4378, F1-score: 0.3933\n",
      "  mAP@0.5: 0.3143, mAP@0.5:0.95: 0.1314\n",
      "  Cohen's Kappa: 0.2770 (Fair)\n",
      "--------------------------------------------------------------------------------\n"
     ]
    },
    {
     "name": "stderr",
     "output_type": "stream",
     "text": [
      "Epoch 19/10000 | Memory: 3.324G | Box: 2.075 | Cls: 2.551 | DFL: 1.081: 100%|██████████| 78/78 [00:10<00:00,  7.14it/s]\n"
     ]
    },
    {
     "name": "stdout",
     "output_type": "stream",
     "text": [
      "\n",
      "Epoch 19/10000 Results:\n",
      "  Train Loss - Box: 2.0750, Cls: 2.5514, DFL: 1.0813, Total: 5.7077\n",
      "  Validation - Precision: 0.3473, Recall: 0.4758, F1-score: 0.4015\n",
      "  mAP@0.5: 0.3322, mAP@0.5:0.95: 0.1356\n",
      "  Cohen's Kappa: 0.3846 (Fair)\n",
      "--------------------------------------------------------------------------------\n"
     ]
    },
    {
     "name": "stderr",
     "output_type": "stream",
     "text": [
      "Epoch 20/10000 | Memory: 3.324G | Box: 2.096 | Cls: 2.001 | DFL: 1.084: 100%|██████████| 78/78 [00:11<00:00,  7.09it/s]\n"
     ]
    },
    {
     "name": "stdout",
     "output_type": "stream",
     "text": [
      "\n",
      "Epoch 20/10000 Results:\n",
      "  Train Loss - Box: 2.0957, Cls: 2.0006, DFL: 1.0844, Total: 5.1807\n",
      "  Validation - Precision: 0.3339, Recall: 0.4479, F1-score: 0.3826\n",
      "  mAP@0.5: 0.2762, mAP@0.5:0.95: 0.1127\n",
      "  Cohen's Kappa: 0.4328 (Moderate)\n",
      "--------------------------------------------------------------------------------\n",
      "\n",
      "📊 Epoch 20 - 검증 샘플 1/1:\n",
      "============================================================\n",
      "✅ 비교 이미지 저장: ../../model/2class_yolov11/validation_comparison_epoch_20.png\n"
     ]
    },
    {
     "name": "stderr",
     "output_type": "stream",
     "text": [
      "Epoch 21/10000 | Memory: 3.324G | Box: 2.086 | Cls: 1.875 | DFL: 1.080: 100%|██████████| 78/78 [00:10<00:00,  7.30it/s]\n"
     ]
    },
    {
     "name": "stdout",
     "output_type": "stream",
     "text": [
      "\n",
      "Epoch 21/10000 Results:\n",
      "  Train Loss - Box: 2.0863, Cls: 1.8747, DFL: 1.0801, Total: 5.0411\n",
      "  Validation - Precision: 0.3607, Recall: 0.4452, F1-score: 0.3985\n",
      "  mAP@0.5: 0.3233, mAP@0.5:0.95: 0.1353\n",
      "  Cohen's Kappa: 0.3997 (Fair)\n",
      "--------------------------------------------------------------------------------\n"
     ]
    },
    {
     "name": "stderr",
     "output_type": "stream",
     "text": [
      "Epoch 22/10000 | Memory: 3.324G | Box: 2.045 | Cls: 2.260 | DFL: 1.053: 100%|██████████| 78/78 [00:10<00:00,  7.41it/s]\n"
     ]
    },
    {
     "name": "stdout",
     "output_type": "stream",
     "text": [
      "\n",
      "Epoch 22/10000 Results:\n",
      "  Train Loss - Box: 2.0445, Cls: 2.2603, DFL: 1.0527, Total: 5.3574\n",
      "  Validation - Precision: 0.3363, Recall: 0.4463, F1-score: 0.3836\n",
      "  mAP@0.5: 0.3089, mAP@0.5:0.95: 0.1250\n",
      "  Cohen's Kappa: 0.3784 (Fair)\n",
      "--------------------------------------------------------------------------------\n"
     ]
    },
    {
     "name": "stderr",
     "output_type": "stream",
     "text": [
      "Epoch 23/10000 | Memory: 3.324G | Box: 2.053 | Cls: 2.680 | DFL: 1.059: 100%|██████████| 78/78 [00:10<00:00,  7.66it/s]\n"
     ]
    },
    {
     "name": "stdout",
     "output_type": "stream",
     "text": [
      "\n",
      "Epoch 23/10000 Results:\n",
      "  Train Loss - Box: 2.0526, Cls: 2.6803, DFL: 1.0588, Total: 5.7917\n",
      "  Validation - Precision: 0.2817, Recall: 0.4808, F1-score: 0.3553\n",
      "  mAP@0.5: 0.2619, mAP@0.5:0.95: 0.1088\n",
      "  Cohen's Kappa: 0.3025 (Fair)\n",
      "--------------------------------------------------------------------------------\n"
     ]
    },
    {
     "name": "stderr",
     "output_type": "stream",
     "text": [
      "Epoch 24/10000 | Memory: 3.324G | Box: 2.034 | Cls: 2.026 | DFL: 1.050: 100%|██████████| 78/78 [00:10<00:00,  7.52it/s]\n"
     ]
    },
    {
     "name": "stdout",
     "output_type": "stream",
     "text": [
      "\n",
      "Epoch 24/10000 Results:\n",
      "  Train Loss - Box: 2.0341, Cls: 2.0257, DFL: 1.0500, Total: 5.1098\n",
      "  Validation - Precision: 0.3467, Recall: 0.4876, F1-score: 0.4052\n",
      "  mAP@0.5: 0.3154, mAP@0.5:0.95: 0.1338\n",
      "  Cohen's Kappa: 0.3963 (Fair)\n",
      "--------------------------------------------------------------------------------\n"
     ]
    },
    {
     "name": "stderr",
     "output_type": "stream",
     "text": [
      "Epoch 25/10000 | Memory: 3.324G | Box: 2.063 | Cls: 2.018 | DFL: 1.049: 100%|██████████| 78/78 [00:11<00:00,  6.98it/s]\n"
     ]
    },
    {
     "name": "stdout",
     "output_type": "stream",
     "text": [
      "\n",
      "Epoch 25/10000 Results:\n",
      "  Train Loss - Box: 2.0626, Cls: 2.0177, DFL: 1.0490, Total: 5.1293\n",
      "  Validation - Precision: 0.3620, Recall: 0.5275, F1-score: 0.4294\n",
      "  mAP@0.5: 0.3603, mAP@0.5:0.95: 0.1550\n",
      "  Cohen's Kappa: 0.2921 (Fair)\n",
      "--------------------------------------------------------------------------------\n",
      "🎉 새로운 베스트 모델 저장! mAP: 0.1550, Kappa: 0.2921\n"
     ]
    },
    {
     "name": "stderr",
     "output_type": "stream",
     "text": [
      "Epoch 26/10000 | Memory: 3.324G | Box: 2.019 | Cls: 1.948 | DFL: 1.042: 100%|██████████| 78/78 [00:10<00:00,  7.40it/s]\n"
     ]
    },
    {
     "name": "stdout",
     "output_type": "stream",
     "text": [
      "\n",
      "Epoch 26/10000 Results:\n",
      "  Train Loss - Box: 2.0190, Cls: 1.9485, DFL: 1.0418, Total: 5.0093\n",
      "  Validation - Precision: 0.3160, Recall: 0.4467, F1-score: 0.3702\n",
      "  mAP@0.5: 0.2777, mAP@0.5:0.95: 0.1148\n",
      "  Cohen's Kappa: 0.3670 (Fair)\n",
      "--------------------------------------------------------------------------------\n"
     ]
    },
    {
     "name": "stderr",
     "output_type": "stream",
     "text": [
      "Epoch 27/10000 | Memory: 3.54G | Box: 1.959 | Cls: 2.066 | DFL: 1.014: 100%|██████████| 78/78 [00:09<00:00,  8.27it/s] \n"
     ]
    },
    {
     "name": "stdout",
     "output_type": "stream",
     "text": [
      "\n",
      "Epoch 27/10000 Results:\n",
      "  Train Loss - Box: 1.9592, Cls: 2.0664, DFL: 1.0140, Total: 5.0395\n",
      "  Validation - Precision: 0.3744, Recall: 0.4633, F1-score: 0.4141\n",
      "  mAP@0.5: 0.3502, mAP@0.5:0.95: 0.1470\n",
      "  Cohen's Kappa: 0.2787 (Fair)\n",
      "--------------------------------------------------------------------------------\n"
     ]
    },
    {
     "name": "stderr",
     "output_type": "stream",
     "text": [
      "Epoch 28/10000 | Memory: 3.54G | Box: 2.020 | Cls: 1.993 | DFL: 1.040: 100%|██████████| 78/78 [00:11<00:00,  7.08it/s]\n"
     ]
    },
    {
     "name": "stdout",
     "output_type": "stream",
     "text": [
      "\n",
      "Epoch 28/10000 Results:\n",
      "  Train Loss - Box: 2.0199, Cls: 1.9927, DFL: 1.0401, Total: 5.0528\n",
      "  Validation - Precision: 0.3870, Recall: 0.5021, F1-score: 0.4371\n",
      "  mAP@0.5: 0.3731, mAP@0.5:0.95: 0.1572\n",
      "  Cohen's Kappa: 0.3670 (Fair)\n",
      "--------------------------------------------------------------------------------\n",
      "🎉 새로운 베스트 모델 저장! mAP: 0.1572, Kappa: 0.3670\n"
     ]
    },
    {
     "name": "stderr",
     "output_type": "stream",
     "text": [
      "Epoch 29/10000 | Memory: 3.54G | Box: 2.006 | Cls: 1.908 | DFL: 1.033: 100%|██████████| 78/78 [00:10<00:00,  7.31it/s]\n"
     ]
    },
    {
     "name": "stdout",
     "output_type": "stream",
     "text": [
      "\n",
      "Epoch 29/10000 Results:\n",
      "  Train Loss - Box: 2.0062, Cls: 1.9081, DFL: 1.0329, Total: 4.9472\n",
      "  Validation - Precision: 0.3316, Recall: 0.4861, F1-score: 0.3943\n",
      "  mAP@0.5: 0.3361, mAP@0.5:0.95: 0.1467\n",
      "  Cohen's Kappa: 0.4645 (Moderate)\n",
      "--------------------------------------------------------------------------------\n"
     ]
    },
    {
     "name": "stderr",
     "output_type": "stream",
     "text": [
      "Epoch 30/10000 | Memory: 3.54G | Box: 1.943 | Cls: 2.584 | DFL: 0.998: 100%|██████████| 78/78 [00:10<00:00,  7.40it/s]\n"
     ]
    },
    {
     "name": "stdout",
     "output_type": "stream",
     "text": [
      "\n",
      "Epoch 30/10000 Results:\n",
      "  Train Loss - Box: 1.9434, Cls: 2.5841, DFL: 0.9980, Total: 5.5256\n",
      "  Validation - Precision: 0.3501, Recall: 0.5266, F1-score: 0.4206\n",
      "  mAP@0.5: 0.3698, mAP@0.5:0.95: 0.1556\n",
      "  Cohen's Kappa: 0.3362 (Fair)\n",
      "--------------------------------------------------------------------------------\n",
      "\n",
      "📊 Epoch 30 - 검증 샘플 1/1:\n",
      "============================================================\n",
      "✅ 비교 이미지 저장: ../../model/2class_yolov11/validation_comparison_epoch_30.png\n"
     ]
    },
    {
     "name": "stderr",
     "output_type": "stream",
     "text": [
      "Epoch 31/10000 | Memory: 3.54G | Box: 1.971 | Cls: 2.022 | DFL: 1.017: 100%|██████████| 78/78 [00:11<00:00,  7.07it/s]\n"
     ]
    },
    {
     "name": "stdout",
     "output_type": "stream",
     "text": [
      "\n",
      "Epoch 31/10000 Results:\n",
      "  Train Loss - Box: 1.9707, Cls: 2.0219, DFL: 1.0175, Total: 5.0101\n",
      "  Validation - Precision: 0.3801, Recall: 0.3994, F1-score: 0.3895\n",
      "  mAP@0.5: 0.3287, mAP@0.5:0.95: 0.1361\n",
      "  Cohen's Kappa: 0.3275 (Fair)\n",
      "--------------------------------------------------------------------------------\n"
     ]
    },
    {
     "name": "stderr",
     "output_type": "stream",
     "text": [
      "Epoch 32/10000 | Memory: 3.54G | Box: 1.978 | Cls: 1.962 | DFL: 1.018: 100%|██████████| 78/78 [00:10<00:00,  7.55it/s]\n"
     ]
    },
    {
     "name": "stdout",
     "output_type": "stream",
     "text": [
      "\n",
      "Epoch 32/10000 Results:\n",
      "  Train Loss - Box: 1.9776, Cls: 1.9620, DFL: 1.0179, Total: 4.9575\n",
      "  Validation - Precision: 0.3623, Recall: 0.4519, F1-score: 0.4021\n",
      "  mAP@0.5: 0.3521, mAP@0.5:0.95: 0.1510\n",
      "  Cohen's Kappa: 0.3074 (Fair)\n",
      "--------------------------------------------------------------------------------\n"
     ]
    },
    {
     "name": "stderr",
     "output_type": "stream",
     "text": [
      "Epoch 33/10000 | Memory: 3.54G | Box: 1.964 | Cls: 1.949 | DFL: 1.003: 100%|██████████| 78/78 [00:10<00:00,  7.11it/s]\n"
     ]
    },
    {
     "name": "stdout",
     "output_type": "stream",
     "text": [
      "\n",
      "Epoch 33/10000 Results:\n",
      "  Train Loss - Box: 1.9638, Cls: 1.9491, DFL: 1.0030, Total: 4.9159\n",
      "  Validation - Precision: 0.4266, Recall: 0.4762, F1-score: 0.4501\n",
      "  mAP@0.5: 0.4133, mAP@0.5:0.95: 0.1762\n",
      "  Cohen's Kappa: 0.2892 (Fair)\n",
      "--------------------------------------------------------------------------------\n",
      "🎉 새로운 베스트 모델 저장! mAP: 0.1762, Kappa: 0.2892\n"
     ]
    },
    {
     "name": "stderr",
     "output_type": "stream",
     "text": [
      "Epoch 34/10000 | Memory: 3.54G | Box: 1.994 | Cls: 1.909 | DFL: 1.014: 100%|██████████| 78/78 [00:11<00:00,  6.58it/s]\n"
     ]
    },
    {
     "name": "stdout",
     "output_type": "stream",
     "text": [
      "\n",
      "Epoch 34/10000 Results:\n",
      "  Train Loss - Box: 1.9938, Cls: 1.9090, DFL: 1.0144, Total: 4.9172\n",
      "  Validation - Precision: 0.4239, Recall: 0.4630, F1-score: 0.4426\n",
      "  mAP@0.5: 0.3998, mAP@0.5:0.95: 0.1665\n",
      "  Cohen's Kappa: 0.3537 (Fair)\n",
      "--------------------------------------------------------------------------------\n"
     ]
    },
    {
     "name": "stderr",
     "output_type": "stream",
     "text": [
      "Epoch 35/10000 | Memory: 3.54G | Box: 1.897 | Cls: 1.928 | DFL: 0.976: 100%|██████████| 78/78 [00:10<00:00,  7.29it/s]\n"
     ]
    },
    {
     "name": "stdout",
     "output_type": "stream",
     "text": [
      "\n",
      "Epoch 35/10000 Results:\n",
      "  Train Loss - Box: 1.8965, Cls: 1.9284, DFL: 0.9764, Total: 4.8014\n",
      "  Validation - Precision: 0.3870, Recall: 0.5007, F1-score: 0.4366\n",
      "  mAP@0.5: 0.3730, mAP@0.5:0.95: 0.1559\n",
      "  Cohen's Kappa: 0.3827 (Fair)\n",
      "--------------------------------------------------------------------------------\n"
     ]
    },
    {
     "name": "stderr",
     "output_type": "stream",
     "text": [
      "Epoch 36/10000 | Memory: 3.54G | Box: 1.975 | Cls: 1.838 | DFL: 1.008: 100%|██████████| 78/78 [00:10<00:00,  7.12it/s]\n"
     ]
    },
    {
     "name": "stdout",
     "output_type": "stream",
     "text": [
      "\n",
      "Epoch 36/10000 Results:\n",
      "  Train Loss - Box: 1.9752, Cls: 1.8381, DFL: 1.0082, Total: 4.8215\n",
      "  Validation - Precision: 0.4045, Recall: 0.4723, F1-score: 0.4358\n",
      "  mAP@0.5: 0.3654, mAP@0.5:0.95: 0.1533\n",
      "  Cohen's Kappa: 0.4425 (Moderate)\n",
      "--------------------------------------------------------------------------------\n"
     ]
    },
    {
     "name": "stderr",
     "output_type": "stream",
     "text": [
      "Epoch 37/10000 | Memory: 3.54G | Box: 1.978 | Cls: 1.780 | DFL: 1.007: 100%|██████████| 78/78 [00:12<00:00,  6.34it/s]\n"
     ]
    },
    {
     "name": "stdout",
     "output_type": "stream",
     "text": [
      "\n",
      "Epoch 37/10000 Results:\n",
      "  Train Loss - Box: 1.9778, Cls: 1.7801, DFL: 1.0066, Total: 4.7645\n",
      "  Validation - Precision: 0.3562, Recall: 0.5118, F1-score: 0.4201\n",
      "  mAP@0.5: 0.3691, mAP@0.5:0.95: 0.1563\n",
      "  Cohen's Kappa: 0.4313 (Moderate)\n",
      "--------------------------------------------------------------------------------\n"
     ]
    },
    {
     "name": "stderr",
     "output_type": "stream",
     "text": [
      "Epoch 38/10000 | Memory: 3.54G | Box: 1.944 | Cls: 2.137 | DFL: 0.983: 100%|██████████| 78/78 [00:11<00:00,  6.98it/s]\n"
     ]
    },
    {
     "name": "stdout",
     "output_type": "stream",
     "text": [
      "\n",
      "Epoch 38/10000 Results:\n",
      "  Train Loss - Box: 1.9443, Cls: 2.1370, DFL: 0.9831, Total: 5.0643\n",
      "  Validation - Precision: 0.4119, Recall: 0.5458, F1-score: 0.4695\n",
      "  mAP@0.5: 0.4383, mAP@0.5:0.95: 0.1830\n",
      "  Cohen's Kappa: 0.4788 (Moderate)\n",
      "--------------------------------------------------------------------------------\n",
      "🎉 새로운 베스트 모델 저장! mAP: 0.1830, Kappa: 0.4788\n"
     ]
    },
    {
     "name": "stderr",
     "output_type": "stream",
     "text": [
      "Epoch 39/10000 | Memory: 3.54G | Box: 1.932 | Cls: 2.019 | DFL: 0.985: 100%|██████████| 78/78 [00:11<00:00,  6.99it/s]\n"
     ]
    },
    {
     "name": "stdout",
     "output_type": "stream",
     "text": [
      "\n",
      "Epoch 39/10000 Results:\n",
      "  Train Loss - Box: 1.9316, Cls: 2.0187, DFL: 0.9851, Total: 4.9353\n",
      "  Validation - Precision: 0.4242, Recall: 0.4804, F1-score: 0.4506\n",
      "  mAP@0.5: 0.4127, mAP@0.5:0.95: 0.1735\n",
      "  Cohen's Kappa: 0.4418 (Moderate)\n",
      "--------------------------------------------------------------------------------\n"
     ]
    },
    {
     "name": "stderr",
     "output_type": "stream",
     "text": [
      "Epoch 40/10000 | Memory: 3.54G | Box: 1.934 | Cls: 1.793 | DFL: 0.994: 100%|██████████| 78/78 [00:11<00:00,  6.82it/s]\n"
     ]
    },
    {
     "name": "stdout",
     "output_type": "stream",
     "text": [
      "\n",
      "Epoch 40/10000 Results:\n",
      "  Train Loss - Box: 1.9344, Cls: 1.7934, DFL: 0.9942, Total: 4.7219\n",
      "  Validation - Precision: 0.3596, Recall: 0.4395, F1-score: 0.3955\n",
      "  mAP@0.5: 0.3418, mAP@0.5:0.95: 0.1498\n",
      "  Cohen's Kappa: 0.4321 (Moderate)\n",
      "--------------------------------------------------------------------------------\n",
      "\n",
      "📊 Epoch 40 - 검증 샘플 1/1:\n",
      "============================================================\n",
      "✅ 비교 이미지 저장: ../../model/2class_yolov11/validation_comparison_epoch_40.png\n"
     ]
    },
    {
     "name": "stderr",
     "output_type": "stream",
     "text": [
      "Epoch 41/10000 | Memory: 3.54G | Box: 1.920 | Cls: 1.920 | DFL: 0.982: 100%|██████████| 78/78 [00:11<00:00,  6.94it/s]\n"
     ]
    },
    {
     "name": "stdout",
     "output_type": "stream",
     "text": [
      "\n",
      "Epoch 41/10000 Results:\n",
      "  Train Loss - Box: 1.9196, Cls: 1.9198, DFL: 0.9818, Total: 4.8212\n",
      "  Validation - Precision: 0.3900, Recall: 0.4850, F1-score: 0.4324\n",
      "  mAP@0.5: 0.3834, mAP@0.5:0.95: 0.1633\n",
      "  Cohen's Kappa: 0.3233 (Fair)\n",
      "--------------------------------------------------------------------------------\n"
     ]
    },
    {
     "name": "stderr",
     "output_type": "stream",
     "text": [
      "Epoch 42/10000 | Memory: 3.54G | Box: 1.950 | Cls: 1.827 | DFL: 0.990: 100%|██████████| 78/78 [00:10<00:00,  7.74it/s]\n"
     ]
    },
    {
     "name": "stdout",
     "output_type": "stream",
     "text": [
      "\n",
      "Epoch 42/10000 Results:\n",
      "  Train Loss - Box: 1.9502, Cls: 1.8269, DFL: 0.9900, Total: 4.7670\n",
      "  Validation - Precision: 0.4299, Recall: 0.4560, F1-score: 0.4426\n",
      "  mAP@0.5: 0.4063, mAP@0.5:0.95: 0.1794\n",
      "  Cohen's Kappa: 0.3807 (Fair)\n",
      "--------------------------------------------------------------------------------\n"
     ]
    },
    {
     "name": "stderr",
     "output_type": "stream",
     "text": [
      "Epoch 43/10000 | Memory: 3.54G | Box: 1.940 | Cls: 1.835 | DFL: 0.987: 100%|██████████| 78/78 [00:11<00:00,  7.02it/s]\n"
     ]
    },
    {
     "name": "stdout",
     "output_type": "stream",
     "text": [
      "\n",
      "Epoch 43/10000 Results:\n",
      "  Train Loss - Box: 1.9401, Cls: 1.8346, DFL: 0.9874, Total: 4.7621\n",
      "  Validation - Precision: 0.3885, Recall: 0.4470, F1-score: 0.4157\n",
      "  mAP@0.5: 0.3484, mAP@0.5:0.95: 0.1546\n",
      "  Cohen's Kappa: 0.4508 (Moderate)\n",
      "--------------------------------------------------------------------------------\n"
     ]
    },
    {
     "name": "stderr",
     "output_type": "stream",
     "text": [
      "Epoch 44/10000 | Memory: 3.54G | Box: 1.941 | Cls: 1.765 | DFL: 0.984: 100%|██████████| 78/78 [00:10<00:00,  7.73it/s]\n"
     ]
    },
    {
     "name": "stdout",
     "output_type": "stream",
     "text": [
      "\n",
      "Epoch 44/10000 Results:\n",
      "  Train Loss - Box: 1.9408, Cls: 1.7650, DFL: 0.9842, Total: 4.6900\n",
      "  Validation - Precision: 0.3832, Recall: 0.4978, F1-score: 0.4330\n",
      "  mAP@0.5: 0.3795, mAP@0.5:0.95: 0.1663\n",
      "  Cohen's Kappa: 0.4647 (Moderate)\n",
      "--------------------------------------------------------------------------------\n"
     ]
    },
    {
     "name": "stderr",
     "output_type": "stream",
     "text": [
      "Epoch 45/10000 | Memory: 3.54G | Box: 1.929 | Cls: 1.778 | DFL: 0.980: 100%|██████████| 78/78 [00:09<00:00,  7.90it/s]\n"
     ]
    },
    {
     "name": "stdout",
     "output_type": "stream",
     "text": [
      "\n",
      "Epoch 45/10000 Results:\n",
      "  Train Loss - Box: 1.9291, Cls: 1.7784, DFL: 0.9803, Total: 4.6878\n",
      "  Validation - Precision: 0.4306, Recall: 0.5020, F1-score: 0.4636\n",
      "  mAP@0.5: 0.4199, mAP@0.5:0.95: 0.1824\n",
      "  Cohen's Kappa: 0.5291 (Moderate)\n",
      "--------------------------------------------------------------------------------\n"
     ]
    },
    {
     "name": "stderr",
     "output_type": "stream",
     "text": [
      "Epoch 46/10000 | Memory: 3.54G | Box: 1.946 | Cls: 1.975 | DFL: 0.987: 100%|██████████| 78/78 [00:10<00:00,  7.10it/s]\n"
     ]
    },
    {
     "name": "stdout",
     "output_type": "stream",
     "text": [
      "\n",
      "Epoch 46/10000 Results:\n",
      "  Train Loss - Box: 1.9458, Cls: 1.9748, DFL: 0.9873, Total: 4.9079\n",
      "  Validation - Precision: 0.3363, Recall: 0.4236, F1-score: 0.3749\n",
      "  mAP@0.5: 0.3189, mAP@0.5:0.95: 0.1365\n",
      "  Cohen's Kappa: 0.4577 (Moderate)\n",
      "--------------------------------------------------------------------------------\n"
     ]
    },
    {
     "name": "stderr",
     "output_type": "stream",
     "text": [
      "Epoch 47/10000 | Memory: 3.54G | Box: 1.879 | Cls: 1.971 | DFL: 0.961: 100%|██████████| 78/78 [00:10<00:00,  7.54it/s]\n"
     ]
    },
    {
     "name": "stdout",
     "output_type": "stream",
     "text": [
      "\n",
      "Epoch 47/10000 Results:\n",
      "  Train Loss - Box: 1.8792, Cls: 1.9708, DFL: 0.9605, Total: 4.8105\n",
      "  Validation - Precision: 0.3768, Recall: 0.4216, F1-score: 0.3979\n",
      "  mAP@0.5: 0.3298, mAP@0.5:0.95: 0.1473\n",
      "  Cohen's Kappa: 0.4650 (Moderate)\n",
      "--------------------------------------------------------------------------------\n"
     ]
    },
    {
     "name": "stderr",
     "output_type": "stream",
     "text": [
      "Epoch 48/10000 | Memory: 3.54G | Box: 1.867 | Cls: 2.111 | DFL: 0.962: 100%|██████████| 78/78 [00:11<00:00,  6.54it/s]\n"
     ]
    },
    {
     "name": "stdout",
     "output_type": "stream",
     "text": [
      "\n",
      "Epoch 48/10000 Results:\n",
      "  Train Loss - Box: 1.8667, Cls: 2.1111, DFL: 0.9618, Total: 4.9397\n",
      "  Validation - Precision: 0.3726, Recall: 0.4914, F1-score: 0.4238\n",
      "  mAP@0.5: 0.3962, mAP@0.5:0.95: 0.1794\n",
      "  Cohen's Kappa: 0.4211 (Moderate)\n",
      "--------------------------------------------------------------------------------\n"
     ]
    },
    {
     "name": "stderr",
     "output_type": "stream",
     "text": [
      "Epoch 49/10000 | Memory: 3.54G | Box: 1.903 | Cls: 1.818 | DFL: 0.975: 100%|██████████| 78/78 [00:10<00:00,  7.59it/s]\n"
     ]
    },
    {
     "name": "stdout",
     "output_type": "stream",
     "text": [
      "\n",
      "Epoch 49/10000 Results:\n",
      "  Train Loss - Box: 1.9027, Cls: 1.8184, DFL: 0.9750, Total: 4.6961\n",
      "  Validation - Precision: 0.4172, Recall: 0.4582, F1-score: 0.4367\n",
      "  mAP@0.5: 0.3765, mAP@0.5:0.95: 0.1718\n",
      "  Cohen's Kappa: 0.4257 (Moderate)\n",
      "--------------------------------------------------------------------------------\n"
     ]
    },
    {
     "name": "stderr",
     "output_type": "stream",
     "text": [
      "Epoch 50/10000 | Memory: 3.54G | Box: 1.862 | Cls: 2.146 | DFL: 0.961: 100%|██████████| 78/78 [00:10<00:00,  7.30it/s]\n"
     ]
    },
    {
     "name": "stdout",
     "output_type": "stream",
     "text": [
      "\n",
      "Epoch 50/10000 Results:\n",
      "  Train Loss - Box: 1.8618, Cls: 2.1456, DFL: 0.9611, Total: 4.9685\n",
      "  Validation - Precision: 0.4481, Recall: 0.3980, F1-score: 0.4216\n",
      "  mAP@0.5: 0.3658, mAP@0.5:0.95: 0.1585\n",
      "  Cohen's Kappa: 0.4235 (Moderate)\n",
      "--------------------------------------------------------------------------------\n",
      "\n",
      "📊 Epoch 50 - 검증 샘플 1/1:\n",
      "============================================================\n",
      "✅ 비교 이미지 저장: ../../model/2class_yolov11/validation_comparison_epoch_50.png\n"
     ]
    },
    {
     "name": "stderr",
     "output_type": "stream",
     "text": [
      "Epoch 51/10000 | Memory: 3.54G | Box: 1.849 | Cls: 1.874 | DFL: 0.957: 100%|██████████| 78/78 [00:10<00:00,  7.77it/s]\n"
     ]
    },
    {
     "name": "stdout",
     "output_type": "stream",
     "text": [
      "\n",
      "Epoch 51/10000 Results:\n",
      "  Train Loss - Box: 1.8488, Cls: 1.8739, DFL: 0.9567, Total: 4.6794\n",
      "  Validation - Precision: 0.4611, Recall: 0.4223, F1-score: 0.4409\n",
      "  mAP@0.5: 0.4009, mAP@0.5:0.95: 0.1782\n",
      "  Cohen's Kappa: 0.5050 (Moderate)\n",
      "--------------------------------------------------------------------------------\n"
     ]
    },
    {
     "name": "stderr",
     "output_type": "stream",
     "text": [
      "Epoch 52/10000 | Memory: 3.54G | Box: 1.863 | Cls: 1.944 | DFL: 0.962: 100%|██████████| 78/78 [00:11<00:00,  6.92it/s]\n"
     ]
    },
    {
     "name": "stdout",
     "output_type": "stream",
     "text": [
      "\n",
      "Epoch 52/10000 Results:\n",
      "  Train Loss - Box: 1.8632, Cls: 1.9441, DFL: 0.9618, Total: 4.7692\n",
      "  Validation - Precision: 0.4843, Recall: 0.4338, F1-score: 0.4576\n",
      "  mAP@0.5: 0.4260, mAP@0.5:0.95: 0.1908\n",
      "  Cohen's Kappa: 0.4647 (Moderate)\n",
      "--------------------------------------------------------------------------------\n",
      "🎉 새로운 베스트 모델 저장! mAP: 0.1908, Kappa: 0.4647\n"
     ]
    },
    {
     "name": "stderr",
     "output_type": "stream",
     "text": [
      "Epoch 53/10000 | Memory: 3.54G | Box: 1.842 | Cls: 1.790 | DFL: 0.953: 100%|██████████| 78/78 [00:10<00:00,  7.51it/s]\n"
     ]
    },
    {
     "name": "stdout",
     "output_type": "stream",
     "text": [
      "\n",
      "Epoch 53/10000 Results:\n",
      "  Train Loss - Box: 1.8423, Cls: 1.7901, DFL: 0.9530, Total: 4.5854\n",
      "  Validation - Precision: 0.4292, Recall: 0.4475, F1-score: 0.4381\n",
      "  mAP@0.5: 0.4096, mAP@0.5:0.95: 0.1879\n",
      "  Cohen's Kappa: 0.5412 (Moderate)\n",
      "--------------------------------------------------------------------------------\n"
     ]
    },
    {
     "name": "stderr",
     "output_type": "stream",
     "text": [
      "Epoch 54/10000 | Memory: 3.54G | Box: 1.843 | Cls: 1.827 | DFL: 0.954: 100%|██████████| 78/78 [00:10<00:00,  7.27it/s]\n"
     ]
    },
    {
     "name": "stdout",
     "output_type": "stream",
     "text": [
      "\n",
      "Epoch 54/10000 Results:\n",
      "  Train Loss - Box: 1.8429, Cls: 1.8272, DFL: 0.9544, Total: 4.6245\n",
      "  Validation - Precision: 0.4364, Recall: 0.4656, F1-score: 0.4505\n",
      "  mAP@0.5: 0.3998, mAP@0.5:0.95: 0.1732\n",
      "  Cohen's Kappa: 0.5492 (Moderate)\n",
      "--------------------------------------------------------------------------------\n"
     ]
    },
    {
     "name": "stderr",
     "output_type": "stream",
     "text": [
      "Epoch 55/10000 | Memory: 3.54G | Box: 1.864 | Cls: 1.825 | DFL: 0.962: 100%|██████████| 78/78 [00:11<00:00,  7.07it/s]\n"
     ]
    },
    {
     "name": "stdout",
     "output_type": "stream",
     "text": [
      "\n",
      "Epoch 55/10000 Results:\n",
      "  Train Loss - Box: 1.8639, Cls: 1.8250, DFL: 0.9616, Total: 4.6506\n",
      "  Validation - Precision: 0.4004, Recall: 0.4604, F1-score: 0.4283\n",
      "  mAP@0.5: 0.3897, mAP@0.5:0.95: 0.1749\n",
      "  Cohen's Kappa: 0.5530 (Moderate)\n",
      "--------------------------------------------------------------------------------\n"
     ]
    },
    {
     "name": "stderr",
     "output_type": "stream",
     "text": [
      "Epoch 56/10000 | Memory: 3.54G | Box: 1.838 | Cls: 1.744 | DFL: 0.953: 100%|██████████| 78/78 [00:10<00:00,  7.54it/s]\n"
     ]
    },
    {
     "name": "stdout",
     "output_type": "stream",
     "text": [
      "\n",
      "Epoch 56/10000 Results:\n",
      "  Train Loss - Box: 1.8382, Cls: 1.7442, DFL: 0.9525, Total: 4.5349\n",
      "  Validation - Precision: 0.4332, Recall: 0.4410, F1-score: 0.4371\n",
      "  mAP@0.5: 0.4040, mAP@0.5:0.95: 0.1812\n",
      "  Cohen's Kappa: 0.4835 (Moderate)\n",
      "--------------------------------------------------------------------------------\n"
     ]
    },
    {
     "name": "stderr",
     "output_type": "stream",
     "text": [
      "Epoch 57/10000 | Memory: 3.54G | Box: 1.865 | Cls: 1.723 | DFL: 0.959: 100%|██████████| 78/78 [00:10<00:00,  7.58it/s]\n"
     ]
    },
    {
     "name": "stdout",
     "output_type": "stream",
     "text": [
      "\n",
      "Epoch 57/10000 Results:\n",
      "  Train Loss - Box: 1.8653, Cls: 1.7234, DFL: 0.9594, Total: 4.5481\n",
      "  Validation - Precision: 0.4593, Recall: 0.4678, F1-score: 0.4635\n",
      "  mAP@0.5: 0.4311, mAP@0.5:0.95: 0.1879\n",
      "  Cohen's Kappa: 0.4987 (Moderate)\n",
      "--------------------------------------------------------------------------------\n"
     ]
    },
    {
     "name": "stderr",
     "output_type": "stream",
     "text": [
      "Epoch 58/10000 | Memory: 3.54G | Box: 1.863 | Cls: 1.769 | DFL: 0.962: 100%|██████████| 78/78 [00:10<00:00,  7.69it/s]\n"
     ]
    },
    {
     "name": "stdout",
     "output_type": "stream",
     "text": [
      "\n",
      "Epoch 58/10000 Results:\n",
      "  Train Loss - Box: 1.8633, Cls: 1.7689, DFL: 0.9618, Total: 4.5939\n",
      "  Validation - Precision: 0.4574, Recall: 0.4512, F1-score: 0.4543\n",
      "  mAP@0.5: 0.4133, mAP@0.5:0.95: 0.1873\n",
      "  Cohen's Kappa: 0.5335 (Moderate)\n",
      "--------------------------------------------------------------------------------\n"
     ]
    },
    {
     "name": "stderr",
     "output_type": "stream",
     "text": [
      "Epoch 59/10000 | Memory: 3.54G | Box: 1.813 | Cls: 1.998 | DFL: 0.941: 100%|██████████| 78/78 [00:09<00:00,  7.98it/s]\n"
     ]
    },
    {
     "name": "stdout",
     "output_type": "stream",
     "text": [
      "\n",
      "Epoch 59/10000 Results:\n",
      "  Train Loss - Box: 1.8131, Cls: 1.9980, DFL: 0.9412, Total: 4.7522\n",
      "  Validation - Precision: 0.3754, Recall: 0.4888, F1-score: 0.4247\n",
      "  mAP@0.5: 0.3805, mAP@0.5:0.95: 0.1684\n",
      "  Cohen's Kappa: 0.4914 (Moderate)\n",
      "--------------------------------------------------------------------------------\n"
     ]
    },
    {
     "name": "stderr",
     "output_type": "stream",
     "text": [
      "Epoch 60/10000 | Memory: 3.54G | Box: 1.847 | Cls: 1.667 | DFL: 0.960: 100%|██████████| 78/78 [00:11<00:00,  6.91it/s]\n"
     ]
    },
    {
     "name": "stdout",
     "output_type": "stream",
     "text": [
      "\n",
      "Epoch 60/10000 Results:\n",
      "  Train Loss - Box: 1.8465, Cls: 1.6670, DFL: 0.9602, Total: 4.4737\n",
      "  Validation - Precision: 0.4647, Recall: 0.5211, F1-score: 0.4913\n",
      "  mAP@0.5: 0.4824, mAP@0.5:0.95: 0.2213\n",
      "  Cohen's Kappa: 0.3760 (Fair)\n",
      "--------------------------------------------------------------------------------\n",
      "🎉 새로운 베스트 모델 저장! mAP: 0.2213, Kappa: 0.3760\n",
      "\n",
      "📊 Epoch 60 - 검증 샘플 1/1:\n",
      "============================================================\n",
      "✅ 비교 이미지 저장: ../../model/2class_yolov11/validation_comparison_epoch_60.png\n"
     ]
    },
    {
     "name": "stderr",
     "output_type": "stream",
     "text": [
      "Epoch 61/10000 | Memory: 3.54G | Box: 1.830 | Cls: 1.884 | DFL: 0.949: 100%|██████████| 78/78 [00:10<00:00,  7.11it/s]\n"
     ]
    },
    {
     "name": "stdout",
     "output_type": "stream",
     "text": [
      "\n",
      "Epoch 61/10000 Results:\n",
      "  Train Loss - Box: 1.8296, Cls: 1.8837, DFL: 0.9494, Total: 4.6627\n",
      "  Validation - Precision: 0.4161, Recall: 0.5036, F1-score: 0.4557\n",
      "  mAP@0.5: 0.3907, mAP@0.5:0.95: 0.1761\n",
      "  Cohen's Kappa: 0.3969 (Fair)\n",
      "--------------------------------------------------------------------------------\n"
     ]
    },
    {
     "name": "stderr",
     "output_type": "stream",
     "text": [
      "Epoch 62/10000 | Memory: 3.54G | Box: 1.860 | Cls: 1.794 | DFL: 0.965: 100%|██████████| 78/78 [00:09<00:00,  8.24it/s]\n"
     ]
    },
    {
     "name": "stdout",
     "output_type": "stream",
     "text": [
      "\n",
      "Epoch 62/10000 Results:\n",
      "  Train Loss - Box: 1.8604, Cls: 1.7938, DFL: 0.9648, Total: 4.6189\n",
      "  Validation - Precision: 0.4139, Recall: 0.4812, F1-score: 0.4450\n",
      "  mAP@0.5: 0.4111, mAP@0.5:0.95: 0.1821\n",
      "  Cohen's Kappa: 0.2659 (Fair)\n",
      "--------------------------------------------------------------------------------\n"
     ]
    },
    {
     "name": "stderr",
     "output_type": "stream",
     "text": [
      "Epoch 63/10000 | Memory: 3.54G | Box: 1.852 | Cls: 1.684 | DFL: 0.962: 100%|██████████| 78/78 [00:10<00:00,  7.28it/s]\n"
     ]
    },
    {
     "name": "stdout",
     "output_type": "stream",
     "text": [
      "\n",
      "Epoch 63/10000 Results:\n",
      "  Train Loss - Box: 1.8517, Cls: 1.6836, DFL: 0.9616, Total: 4.4969\n",
      "  Validation - Precision: 0.4511, Recall: 0.4620, F1-score: 0.4564\n",
      "  mAP@0.5: 0.4463, mAP@0.5:0.95: 0.2080\n",
      "  Cohen's Kappa: 0.4383 (Moderate)\n",
      "--------------------------------------------------------------------------------\n"
     ]
    },
    {
     "name": "stderr",
     "output_type": "stream",
     "text": [
      "Epoch 64/10000 | Memory: 3.54G | Box: 1.834 | Cls: 1.686 | DFL: 0.957: 100%|██████████| 78/78 [00:09<00:00,  8.15it/s]\n"
     ]
    },
    {
     "name": "stdout",
     "output_type": "stream",
     "text": [
      "\n",
      "Epoch 64/10000 Results:\n",
      "  Train Loss - Box: 1.8337, Cls: 1.6857, DFL: 0.9569, Total: 4.4763\n",
      "  Validation - Precision: 0.4467, Recall: 0.5227, F1-score: 0.4817\n",
      "  mAP@0.5: 0.4592, mAP@0.5:0.95: 0.2083\n",
      "  Cohen's Kappa: 0.3955 (Fair)\n",
      "--------------------------------------------------------------------------------\n"
     ]
    },
    {
     "name": "stderr",
     "output_type": "stream",
     "text": [
      "Epoch 65/10000 | Memory: 3.54G | Box: 1.794 | Cls: 1.748 | DFL: 0.940: 100%|██████████| 78/78 [00:10<00:00,  7.26it/s]\n"
     ]
    },
    {
     "name": "stdout",
     "output_type": "stream",
     "text": [
      "\n",
      "Epoch 65/10000 Results:\n",
      "  Train Loss - Box: 1.7945, Cls: 1.7476, DFL: 0.9403, Total: 4.4824\n",
      "  Validation - Precision: 0.4551, Recall: 0.5233, F1-score: 0.4868\n",
      "  mAP@0.5: 0.4714, mAP@0.5:0.95: 0.2143\n",
      "  Cohen's Kappa: 0.4892 (Moderate)\n",
      "--------------------------------------------------------------------------------\n"
     ]
    },
    {
     "name": "stderr",
     "output_type": "stream",
     "text": [
      "Epoch 66/10000 | Memory: 3.54G | Box: 1.831 | Cls: 1.702 | DFL: 0.955: 100%|██████████| 78/78 [00:09<00:00,  8.01it/s]\n"
     ]
    },
    {
     "name": "stdout",
     "output_type": "stream",
     "text": [
      "\n",
      "Epoch 66/10000 Results:\n",
      "  Train Loss - Box: 1.8315, Cls: 1.7023, DFL: 0.9548, Total: 4.4885\n",
      "  Validation - Precision: 0.3999, Recall: 0.4920, F1-score: 0.4412\n",
      "  mAP@0.5: 0.3997, mAP@0.5:0.95: 0.1828\n",
      "  Cohen's Kappa: 0.5393 (Moderate)\n",
      "--------------------------------------------------------------------------------\n"
     ]
    },
    {
     "name": "stderr",
     "output_type": "stream",
     "text": [
      "Epoch 67/10000 | Memory: 3.54G | Box: 1.786 | Cls: 1.859 | DFL: 0.927: 100%|██████████| 78/78 [00:09<00:00,  8.08it/s]\n"
     ]
    },
    {
     "name": "stdout",
     "output_type": "stream",
     "text": [
      "\n",
      "Epoch 67/10000 Results:\n",
      "  Train Loss - Box: 1.7861, Cls: 1.8594, DFL: 0.9269, Total: 4.5723\n",
      "  Validation - Precision: 0.3848, Recall: 0.5076, F1-score: 0.4377\n",
      "  mAP@0.5: 0.3867, mAP@0.5:0.95: 0.1822\n",
      "  Cohen's Kappa: 0.4992 (Moderate)\n",
      "--------------------------------------------------------------------------------\n"
     ]
    },
    {
     "name": "stderr",
     "output_type": "stream",
     "text": [
      "Epoch 68/10000 | Memory: 3.54G | Box: 1.821 | Cls: 1.814 | DFL: 0.947: 100%|██████████| 78/78 [00:10<00:00,  7.45it/s]\n"
     ]
    },
    {
     "name": "stdout",
     "output_type": "stream",
     "text": [
      "\n",
      "Epoch 68/10000 Results:\n",
      "  Train Loss - Box: 1.8211, Cls: 1.8137, DFL: 0.9467, Total: 4.5815\n",
      "  Validation - Precision: 0.4876, Recall: 0.4934, F1-score: 0.4905\n",
      "  mAP@0.5: 0.4725, mAP@0.5:0.95: 0.2134\n",
      "  Cohen's Kappa: 0.5234 (Moderate)\n",
      "--------------------------------------------------------------------------------\n"
     ]
    },
    {
     "name": "stderr",
     "output_type": "stream",
     "text": [
      "Epoch 69/10000 | Memory: 3.54G | Box: 1.806 | Cls: 1.733 | DFL: 0.944: 100%|██████████| 78/78 [00:10<00:00,  7.65it/s]\n"
     ]
    },
    {
     "name": "stdout",
     "output_type": "stream",
     "text": [
      "\n",
      "Epoch 69/10000 Results:\n",
      "  Train Loss - Box: 1.8058, Cls: 1.7329, DFL: 0.9441, Total: 4.4828\n",
      "  Validation - Precision: 0.4483, Recall: 0.4493, F1-score: 0.4488\n",
      "  mAP@0.5: 0.4170, mAP@0.5:0.95: 0.1879\n",
      "  Cohen's Kappa: 0.5189 (Moderate)\n",
      "--------------------------------------------------------------------------------\n"
     ]
    },
    {
     "name": "stderr",
     "output_type": "stream",
     "text": [
      "Epoch 70/10000 | Memory: 3.54G | Box: 1.799 | Cls: 1.733 | DFL: 0.950: 100%|██████████| 78/78 [00:10<00:00,  7.78it/s]\n"
     ]
    },
    {
     "name": "stdout",
     "output_type": "stream",
     "text": [
      "\n",
      "Epoch 70/10000 Results:\n",
      "  Train Loss - Box: 1.7988, Cls: 1.7327, DFL: 0.9497, Total: 4.4812\n",
      "  Validation - Precision: 0.5095, Recall: 0.4926, F1-score: 0.5009\n",
      "  mAP@0.5: 0.4940, mAP@0.5:0.95: 0.2353\n",
      "  Cohen's Kappa: 0.4892 (Moderate)\n",
      "--------------------------------------------------------------------------------\n",
      "🎉 새로운 베스트 모델 저장! mAP: 0.2353, Kappa: 0.4892\n",
      "\n",
      "📊 Epoch 70 - 검증 샘플 1/1:\n",
      "============================================================\n",
      "✅ 비교 이미지 저장: ../../model/2class_yolov11/validation_comparison_epoch_70.png\n"
     ]
    },
    {
     "name": "stderr",
     "output_type": "stream",
     "text": [
      "Epoch 71/10000 | Memory: 3.54G | Box: 1.772 | Cls: 1.960 | DFL: 0.935: 100%|██████████| 78/78 [00:10<00:00,  7.54it/s]\n"
     ]
    },
    {
     "name": "stdout",
     "output_type": "stream",
     "text": [
      "\n",
      "Epoch 71/10000 Results:\n",
      "  Train Loss - Box: 1.7716, Cls: 1.9604, DFL: 0.9354, Total: 4.6674\n",
      "  Validation - Precision: 0.4664, Recall: 0.4939, F1-score: 0.4798\n",
      "  mAP@0.5: 0.4238, mAP@0.5:0.95: 0.1930\n",
      "  Cohen's Kappa: 0.4850 (Moderate)\n",
      "--------------------------------------------------------------------------------\n"
     ]
    },
    {
     "name": "stderr",
     "output_type": "stream",
     "text": [
      "Epoch 72/10000 | Memory: 3.54G | Box: 1.818 | Cls: 1.764 | DFL: 0.950: 100%|██████████| 78/78 [00:10<00:00,  7.25it/s]\n"
     ]
    },
    {
     "name": "stdout",
     "output_type": "stream",
     "text": [
      "\n",
      "Epoch 72/10000 Results:\n",
      "  Train Loss - Box: 1.8180, Cls: 1.7635, DFL: 0.9504, Total: 4.5320\n",
      "  Validation - Precision: 0.4759, Recall: 0.5216, F1-score: 0.4977\n",
      "  mAP@0.5: 0.4577, mAP@0.5:0.95: 0.2103\n",
      "  Cohen's Kappa: 0.5146 (Moderate)\n",
      "--------------------------------------------------------------------------------\n"
     ]
    },
    {
     "name": "stderr",
     "output_type": "stream",
     "text": [
      "Epoch 73/10000 | Memory: 3.54G | Box: 1.793 | Cls: 1.798 | DFL: 0.948: 100%|██████████| 78/78 [00:10<00:00,  7.79it/s]\n"
     ]
    },
    {
     "name": "stdout",
     "output_type": "stream",
     "text": [
      "\n",
      "Epoch 73/10000 Results:\n",
      "  Train Loss - Box: 1.7930, Cls: 1.7982, DFL: 0.9479, Total: 4.5390\n",
      "  Validation - Precision: 0.4121, Recall: 0.4963, F1-score: 0.4503\n",
      "  mAP@0.5: 0.4193, mAP@0.5:0.95: 0.1892\n",
      "  Cohen's Kappa: 0.4801 (Moderate)\n",
      "--------------------------------------------------------------------------------\n"
     ]
    },
    {
     "name": "stderr",
     "output_type": "stream",
     "text": [
      "Epoch 74/10000 | Memory: 3.54G | Box: 1.782 | Cls: 1.660 | DFL: 0.937: 100%|██████████| 78/78 [00:10<00:00,  7.63it/s]\n"
     ]
    },
    {
     "name": "stdout",
     "output_type": "stream",
     "text": [
      "\n",
      "Epoch 74/10000 Results:\n",
      "  Train Loss - Box: 1.7822, Cls: 1.6598, DFL: 0.9375, Total: 4.3795\n",
      "  Validation - Precision: 0.4355, Recall: 0.5058, F1-score: 0.4680\n",
      "  mAP@0.5: 0.4330, mAP@0.5:0.95: 0.1924\n",
      "  Cohen's Kappa: 0.5619 (Moderate)\n",
      "--------------------------------------------------------------------------------\n"
     ]
    },
    {
     "name": "stderr",
     "output_type": "stream",
     "text": [
      "Epoch 75/10000 | Memory: 3.54G | Box: 1.780 | Cls: 1.668 | DFL: 0.944: 100%|██████████| 78/78 [00:09<00:00,  8.21it/s]\n"
     ]
    },
    {
     "name": "stdout",
     "output_type": "stream",
     "text": [
      "\n",
      "Epoch 75/10000 Results:\n",
      "  Train Loss - Box: 1.7796, Cls: 1.6678, DFL: 0.9439, Total: 4.3914\n",
      "  Validation - Precision: 0.4058, Recall: 0.4671, F1-score: 0.4343\n",
      "  mAP@0.5: 0.3775, mAP@0.5:0.95: 0.1632\n",
      "  Cohen's Kappa: 0.5439 (Moderate)\n",
      "--------------------------------------------------------------------------------\n"
     ]
    },
    {
     "name": "stderr",
     "output_type": "stream",
     "text": [
      "Epoch 76/10000 | Memory: 3.76G | Box: 1.782 | Cls: 1.712 | DFL: 0.936: 100%|██████████| 78/78 [00:11<00:00,  6.85it/s]\n"
     ]
    },
    {
     "name": "stdout",
     "output_type": "stream",
     "text": [
      "\n",
      "Epoch 76/10000 Results:\n",
      "  Train Loss - Box: 1.7816, Cls: 1.7119, DFL: 0.9360, Total: 4.4294\n",
      "  Validation - Precision: 0.4708, Recall: 0.5334, F1-score: 0.5001\n",
      "  mAP@0.5: 0.4756, mAP@0.5:0.95: 0.2196\n",
      "  Cohen's Kappa: 0.5573 (Moderate)\n",
      "--------------------------------------------------------------------------------\n"
     ]
    },
    {
     "name": "stderr",
     "output_type": "stream",
     "text": [
      "Epoch 77/10000 | Memory: 3.76G | Box: 1.756 | Cls: 1.731 | DFL: 0.937: 100%|██████████| 78/78 [00:10<00:00,  7.65it/s]\n"
     ]
    },
    {
     "name": "stdout",
     "output_type": "stream",
     "text": [
      "\n",
      "Epoch 77/10000 Results:\n",
      "  Train Loss - Box: 1.7562, Cls: 1.7311, DFL: 0.9372, Total: 4.4245\n",
      "  Validation - Precision: 0.3741, Recall: 0.5288, F1-score: 0.4382\n",
      "  mAP@0.5: 0.3906, mAP@0.5:0.95: 0.1734\n",
      "  Cohen's Kappa: 0.5785 (Moderate)\n",
      "--------------------------------------------------------------------------------\n"
     ]
    },
    {
     "name": "stderr",
     "output_type": "stream",
     "text": [
      "Epoch 78/10000 | Memory: 3.76G | Box: 1.801 | Cls: 1.739 | DFL: 0.945: 100%|██████████| 78/78 [00:10<00:00,  7.35it/s]\n"
     ]
    },
    {
     "name": "stdout",
     "output_type": "stream",
     "text": [
      "\n",
      "Epoch 78/10000 Results:\n",
      "  Train Loss - Box: 1.8007, Cls: 1.7389, DFL: 0.9446, Total: 4.4842\n",
      "  Validation - Precision: 0.4655, Recall: 0.4980, F1-score: 0.4812\n",
      "  mAP@0.5: 0.4381, mAP@0.5:0.95: 0.2082\n",
      "  Cohen's Kappa: 0.5149 (Moderate)\n",
      "--------------------------------------------------------------------------------\n"
     ]
    },
    {
     "name": "stderr",
     "output_type": "stream",
     "text": [
      "Epoch 79/10000 | Memory: 3.76G | Box: 1.793 | Cls: 1.681 | DFL: 0.945: 100%|██████████| 78/78 [00:10<00:00,  7.44it/s]\n"
     ]
    },
    {
     "name": "stdout",
     "output_type": "stream",
     "text": [
      "\n",
      "Epoch 79/10000 Results:\n",
      "  Train Loss - Box: 1.7926, Cls: 1.6815, DFL: 0.9452, Total: 4.4192\n",
      "  Validation - Precision: 0.4515, Recall: 0.4813, F1-score: 0.4659\n",
      "  mAP@0.5: 0.4222, mAP@0.5:0.95: 0.1883\n",
      "  Cohen's Kappa: 0.5825 (Moderate)\n",
      "--------------------------------------------------------------------------------\n"
     ]
    },
    {
     "name": "stderr",
     "output_type": "stream",
     "text": [
      "Epoch 80/10000 | Memory: 3.76G | Box: 1.770 | Cls: 1.607 | DFL: 0.937: 100%|██████████| 78/78 [00:11<00:00,  7.01it/s]\n"
     ]
    },
    {
     "name": "stdout",
     "output_type": "stream",
     "text": [
      "\n",
      "Epoch 80/10000 Results:\n",
      "  Train Loss - Box: 1.7700, Cls: 1.6069, DFL: 0.9369, Total: 4.3138\n",
      "  Validation - Precision: 0.4773, Recall: 0.5339, F1-score: 0.5040\n",
      "  mAP@0.5: 0.4839, mAP@0.5:0.95: 0.2199\n",
      "  Cohen's Kappa: 0.5724 (Moderate)\n",
      "--------------------------------------------------------------------------------\n",
      "\n",
      "📊 Epoch 80 - 검증 샘플 1/1:\n",
      "============================================================\n",
      "✅ 비교 이미지 저장: ../../model/2class_yolov11/validation_comparison_epoch_80.png\n"
     ]
    },
    {
     "name": "stderr",
     "output_type": "stream",
     "text": [
      "Epoch 81/10000 | Memory: 3.76G | Box: 1.726 | Cls: 1.813 | DFL: 0.918: 100%|██████████| 78/78 [00:10<00:00,  7.60it/s]\n"
     ]
    },
    {
     "name": "stdout",
     "output_type": "stream",
     "text": [
      "\n",
      "Epoch 81/10000 Results:\n",
      "  Train Loss - Box: 1.7257, Cls: 1.8133, DFL: 0.9179, Total: 4.4569\n",
      "  Validation - Precision: 0.4854, Recall: 0.5009, F1-score: 0.4930\n",
      "  mAP@0.5: 0.4585, mAP@0.5:0.95: 0.2020\n",
      "  Cohen's Kappa: 0.4975 (Moderate)\n",
      "--------------------------------------------------------------------------------\n"
     ]
    },
    {
     "name": "stderr",
     "output_type": "stream",
     "text": [
      "Epoch 82/10000 | Memory: 3.76G | Box: 1.763 | Cls: 1.658 | DFL: 0.938: 100%|██████████| 78/78 [00:10<00:00,  7.77it/s]\n"
     ]
    },
    {
     "name": "stdout",
     "output_type": "stream",
     "text": [
      "\n",
      "Epoch 82/10000 Results:\n",
      "  Train Loss - Box: 1.7631, Cls: 1.6578, DFL: 0.9382, Total: 4.3591\n",
      "  Validation - Precision: 0.4275, Recall: 0.4957, F1-score: 0.4591\n",
      "  mAP@0.5: 0.4035, mAP@0.5:0.95: 0.1801\n",
      "  Cohen's Kappa: 0.5129 (Moderate)\n",
      "--------------------------------------------------------------------------------\n"
     ]
    },
    {
     "name": "stderr",
     "output_type": "stream",
     "text": [
      "Epoch 83/10000 | Memory: 3.76G | Box: 1.773 | Cls: 1.625 | DFL: 0.942: 100%|██████████| 78/78 [00:10<00:00,  7.14it/s]\n"
     ]
    },
    {
     "name": "stdout",
     "output_type": "stream",
     "text": [
      "\n",
      "Epoch 83/10000 Results:\n",
      "  Train Loss - Box: 1.7733, Cls: 1.6251, DFL: 0.9416, Total: 4.3400\n",
      "  Validation - Precision: 0.5218, Recall: 0.4932, F1-score: 0.5071\n",
      "  mAP@0.5: 0.4867, mAP@0.5:0.95: 0.2210\n",
      "  Cohen's Kappa: 0.6009 (Moderate)\n",
      "--------------------------------------------------------------------------------\n"
     ]
    },
    {
     "name": "stderr",
     "output_type": "stream",
     "text": [
      "Epoch 84/10000 | Memory: 3.76G | Box: 1.768 | Cls: 1.682 | DFL: 0.940: 100%|██████████| 78/78 [00:10<00:00,  7.70it/s]\n"
     ]
    },
    {
     "name": "stdout",
     "output_type": "stream",
     "text": [
      "\n",
      "Epoch 84/10000 Results:\n",
      "  Train Loss - Box: 1.7684, Cls: 1.6824, DFL: 0.9396, Total: 4.3905\n",
      "  Validation - Precision: 0.5065, Recall: 0.5068, F1-score: 0.5067\n",
      "  mAP@0.5: 0.4909, mAP@0.5:0.95: 0.2259\n",
      "  Cohen's Kappa: 0.5371 (Moderate)\n",
      "--------------------------------------------------------------------------------\n"
     ]
    },
    {
     "name": "stderr",
     "output_type": "stream",
     "text": [
      "Epoch 85/10000 | Memory: 3.76G | Box: 1.728 | Cls: 1.903 | DFL: 0.919: 100%|██████████| 78/78 [00:10<00:00,  7.19it/s]\n"
     ]
    },
    {
     "name": "stdout",
     "output_type": "stream",
     "text": [
      "\n",
      "Epoch 85/10000 Results:\n",
      "  Train Loss - Box: 1.7282, Cls: 1.9026, DFL: 0.9191, Total: 4.5499\n",
      "  Validation - Precision: 0.4952, Recall: 0.5237, F1-score: 0.5091\n",
      "  mAP@0.5: 0.5007, mAP@0.5:0.95: 0.2345\n",
      "  Cohen's Kappa: 0.5402 (Moderate)\n",
      "--------------------------------------------------------------------------------\n"
     ]
    },
    {
     "name": "stderr",
     "output_type": "stream",
     "text": [
      "Epoch 86/10000 | Memory: 3.76G | Box: 1.757 | Cls: 1.713 | DFL: 0.936: 100%|██████████| 78/78 [00:12<00:00,  6.45it/s]\n"
     ]
    },
    {
     "name": "stdout",
     "output_type": "stream",
     "text": [
      "\n",
      "Epoch 86/10000 Results:\n",
      "  Train Loss - Box: 1.7571, Cls: 1.7125, DFL: 0.9361, Total: 4.4057\n",
      "  Validation - Precision: 0.4473, Recall: 0.4394, F1-score: 0.4433\n",
      "  mAP@0.5: 0.4037, mAP@0.5:0.95: 0.1858\n",
      "  Cohen's Kappa: 0.5060 (Moderate)\n",
      "--------------------------------------------------------------------------------\n"
     ]
    },
    {
     "name": "stderr",
     "output_type": "stream",
     "text": [
      "Epoch 87/10000 | Memory: 3.76G | Box: 1.769 | Cls: 1.689 | DFL: 0.944: 100%|██████████| 78/78 [00:11<00:00,  6.99it/s]\n"
     ]
    },
    {
     "ename": "KeyboardInterrupt",
     "evalue": "",
     "output_type": "error",
     "traceback": [
      "\u001b[0;31m---------------------------------------------------------------------------\u001b[0m",
      "\u001b[0;31mKeyboardInterrupt\u001b[0m                         Traceback (most recent call last)",
      "Cell \u001b[0;32mIn[7], line 88\u001b[0m\n\u001b[1;32m     85\u001b[0m train_losses\u001b[38;5;241m.\u001b[39mappend(avg_train_loss)\n\u001b[1;32m     87\u001b[0m \u001b[38;5;66;03m# 검증 (Cohen's Kappa 포함)\u001b[39;00m\n\u001b[0;32m---> 88\u001b[0m precision, recall, map50, mean_ap, kappa \u001b[38;5;241m=\u001b[39m \u001b[43mcompute_validation_metrics_with_kappa\u001b[49m\u001b[43m(\u001b[49m\n\u001b[1;32m     89\u001b[0m \u001b[43m    \u001b[49m\u001b[43mmodel\u001b[49m\u001b[43m,\u001b[49m\u001b[43m \u001b[49m\u001b[43mval_loader\u001b[49m\u001b[43m,\u001b[49m\u001b[43m \u001b[49m\u001b[43mdevice\u001b[49m\u001b[43m,\u001b[49m\u001b[43m \u001b[49m\u001b[43mparams\u001b[49m\n\u001b[1;32m     90\u001b[0m \u001b[43m\u001b[49m\u001b[43m)\u001b[49m\n\u001b[1;32m     91\u001b[0m val_maps\u001b[38;5;241m.\u001b[39mappend(mean_ap)\n\u001b[1;32m     92\u001b[0m val_precisions\u001b[38;5;241m.\u001b[39mappend(precision)\n",
      "File \u001b[0;32m~/IHC_biomarker/code/ihc_cell_count/utils/valid.py:325\u001b[0m, in \u001b[0;36mcompute_validation_metrics_with_kappa\u001b[0;34m(model, val_loader, device, params)\u001b[0m\n\u001b[1;32m    322\u001b[0m     \u001b[38;5;28;01mreturn\u001b[39;00m precision, recall, map50, mean_ap, \u001b[38;5;241m0.0\u001b[39m\n\u001b[1;32m    324\u001b[0m \u001b[38;5;66;03m# 기본 메트릭 계산\u001b[39;00m\n\u001b[0;32m--> 325\u001b[0m precision, recall, map50, mean_ap \u001b[38;5;241m=\u001b[39m \u001b[43mcompute_validation_metrics\u001b[49m\u001b[43m(\u001b[49m\u001b[43mmodel\u001b[49m\u001b[43m,\u001b[49m\u001b[43m \u001b[49m\u001b[43mval_loader\u001b[49m\u001b[43m,\u001b[49m\u001b[43m \u001b[49m\u001b[43mdevice\u001b[49m\u001b[43m,\u001b[49m\u001b[43m \u001b[49m\u001b[43mparams\u001b[49m\u001b[43m)\u001b[49m\n\u001b[1;32m    327\u001b[0m \u001b[38;5;66;03m# Cohen's Kappa 계산을 위한 grid 기반 비교\u001b[39;00m\n\u001b[1;32m    328\u001b[0m model\u001b[38;5;241m.\u001b[39meval()\n",
      "File \u001b[0;32m~/IHC_biomarker/code/ihc_cell_count/utils/valid.py:206\u001b[0m, in \u001b[0;36mcompute_validation_metrics\u001b[0;34m(model, val_loader, device, params)\u001b[0m\n\u001b[1;32m    204\u001b[0m \u001b[38;5;66;03m# 모델 예측만 수행 (loss 계산 제거)\u001b[39;00m\n\u001b[1;32m    205\u001b[0m \u001b[38;5;28;01mwith\u001b[39;00m torch\u001b[38;5;241m.\u001b[39mamp\u001b[38;5;241m.\u001b[39mautocast(\u001b[38;5;124m'\u001b[39m\u001b[38;5;124mcuda\u001b[39m\u001b[38;5;124m'\u001b[39m):\n\u001b[0;32m--> 206\u001b[0m     val_outputs \u001b[38;5;241m=\u001b[39m \u001b[43mmodel\u001b[49m\u001b[43m(\u001b[49m\u001b[43mval_images\u001b[49m\u001b[43m)\u001b[49m\n\u001b[1;32m    208\u001b[0m \u001b[38;5;66;03m# NMS for metric calculation\u001b[39;00m\n\u001b[1;32m    209\u001b[0m outputs \u001b[38;5;241m=\u001b[39m util\u001b[38;5;241m.\u001b[39mnon_max_suppression(val_outputs)\n",
      "File \u001b[0;32m/usr/local/lib/python3.12/dist-packages/torch/nn/modules/module.py:1740\u001b[0m, in \u001b[0;36mModule._wrapped_call_impl\u001b[0;34m(self, *args, **kwargs)\u001b[0m\n\u001b[1;32m   1738\u001b[0m     \u001b[38;5;28;01mreturn\u001b[39;00m \u001b[38;5;28mself\u001b[39m\u001b[38;5;241m.\u001b[39m_compiled_call_impl(\u001b[38;5;241m*\u001b[39margs, \u001b[38;5;241m*\u001b[39m\u001b[38;5;241m*\u001b[39mkwargs)  \u001b[38;5;66;03m# type: ignore[misc]\u001b[39;00m\n\u001b[1;32m   1739\u001b[0m \u001b[38;5;28;01melse\u001b[39;00m:\n\u001b[0;32m-> 1740\u001b[0m     \u001b[38;5;28;01mreturn\u001b[39;00m \u001b[38;5;28;43mself\u001b[39;49m\u001b[38;5;241;43m.\u001b[39;49m\u001b[43m_call_impl\u001b[49m\u001b[43m(\u001b[49m\u001b[38;5;241;43m*\u001b[39;49m\u001b[43margs\u001b[49m\u001b[43m,\u001b[49m\u001b[43m \u001b[49m\u001b[38;5;241;43m*\u001b[39;49m\u001b[38;5;241;43m*\u001b[39;49m\u001b[43mkwargs\u001b[49m\u001b[43m)\u001b[49m\n",
      "File \u001b[0;32m/usr/local/lib/python3.12/dist-packages/torch/nn/modules/module.py:1751\u001b[0m, in \u001b[0;36mModule._call_impl\u001b[0;34m(self, *args, **kwargs)\u001b[0m\n\u001b[1;32m   1746\u001b[0m \u001b[38;5;66;03m# If we don't have any hooks, we want to skip the rest of the logic in\u001b[39;00m\n\u001b[1;32m   1747\u001b[0m \u001b[38;5;66;03m# this function, and just call forward.\u001b[39;00m\n\u001b[1;32m   1748\u001b[0m \u001b[38;5;28;01mif\u001b[39;00m \u001b[38;5;129;01mnot\u001b[39;00m (\u001b[38;5;28mself\u001b[39m\u001b[38;5;241m.\u001b[39m_backward_hooks \u001b[38;5;129;01mor\u001b[39;00m \u001b[38;5;28mself\u001b[39m\u001b[38;5;241m.\u001b[39m_backward_pre_hooks \u001b[38;5;129;01mor\u001b[39;00m \u001b[38;5;28mself\u001b[39m\u001b[38;5;241m.\u001b[39m_forward_hooks \u001b[38;5;129;01mor\u001b[39;00m \u001b[38;5;28mself\u001b[39m\u001b[38;5;241m.\u001b[39m_forward_pre_hooks\n\u001b[1;32m   1749\u001b[0m         \u001b[38;5;129;01mor\u001b[39;00m _global_backward_pre_hooks \u001b[38;5;129;01mor\u001b[39;00m _global_backward_hooks\n\u001b[1;32m   1750\u001b[0m         \u001b[38;5;129;01mor\u001b[39;00m _global_forward_hooks \u001b[38;5;129;01mor\u001b[39;00m _global_forward_pre_hooks):\n\u001b[0;32m-> 1751\u001b[0m     \u001b[38;5;28;01mreturn\u001b[39;00m \u001b[43mforward_call\u001b[49m\u001b[43m(\u001b[49m\u001b[38;5;241;43m*\u001b[39;49m\u001b[43margs\u001b[49m\u001b[43m,\u001b[49m\u001b[43m \u001b[49m\u001b[38;5;241;43m*\u001b[39;49m\u001b[38;5;241;43m*\u001b[39;49m\u001b[43mkwargs\u001b[49m\u001b[43m)\u001b[49m\n\u001b[1;32m   1753\u001b[0m result \u001b[38;5;241m=\u001b[39m \u001b[38;5;28;01mNone\u001b[39;00m\n\u001b[1;32m   1754\u001b[0m called_always_called_hooks \u001b[38;5;241m=\u001b[39m \u001b[38;5;28mset\u001b[39m()\n",
      "File \u001b[0;32m~/IHC_biomarker/code/ihc_cell_count/nets/nn.py:297\u001b[0m, in \u001b[0;36mYOLO.forward\u001b[0;34m(self, x)\u001b[0m\n\u001b[1;32m    295\u001b[0m x \u001b[38;5;241m=\u001b[39m \u001b[38;5;28mself\u001b[39m\u001b[38;5;241m.\u001b[39mnet(x)\n\u001b[1;32m    296\u001b[0m x \u001b[38;5;241m=\u001b[39m \u001b[38;5;28mself\u001b[39m\u001b[38;5;241m.\u001b[39mfpn(x)\n\u001b[0;32m--> 297\u001b[0m \u001b[38;5;28;01mreturn\u001b[39;00m \u001b[38;5;28;43mself\u001b[39;49m\u001b[38;5;241;43m.\u001b[39;49m\u001b[43mhead\u001b[49m\u001b[43m(\u001b[49m\u001b[38;5;28;43mlist\u001b[39;49m\u001b[43m(\u001b[49m\u001b[43mx\u001b[49m\u001b[43m)\u001b[49m\u001b[43m)\u001b[49m\n",
      "File \u001b[0;32m/usr/local/lib/python3.12/dist-packages/torch/nn/modules/module.py:1740\u001b[0m, in \u001b[0;36mModule._wrapped_call_impl\u001b[0;34m(self, *args, **kwargs)\u001b[0m\n\u001b[1;32m   1738\u001b[0m     \u001b[38;5;28;01mreturn\u001b[39;00m \u001b[38;5;28mself\u001b[39m\u001b[38;5;241m.\u001b[39m_compiled_call_impl(\u001b[38;5;241m*\u001b[39margs, \u001b[38;5;241m*\u001b[39m\u001b[38;5;241m*\u001b[39mkwargs)  \u001b[38;5;66;03m# type: ignore[misc]\u001b[39;00m\n\u001b[1;32m   1739\u001b[0m \u001b[38;5;28;01melse\u001b[39;00m:\n\u001b[0;32m-> 1740\u001b[0m     \u001b[38;5;28;01mreturn\u001b[39;00m \u001b[38;5;28;43mself\u001b[39;49m\u001b[38;5;241;43m.\u001b[39;49m\u001b[43m_call_impl\u001b[49m\u001b[43m(\u001b[49m\u001b[38;5;241;43m*\u001b[39;49m\u001b[43margs\u001b[49m\u001b[43m,\u001b[49m\u001b[43m \u001b[49m\u001b[38;5;241;43m*\u001b[39;49m\u001b[38;5;241;43m*\u001b[39;49m\u001b[43mkwargs\u001b[49m\u001b[43m)\u001b[49m\n",
      "File \u001b[0;32m/usr/local/lib/python3.12/dist-packages/torch/nn/modules/module.py:1751\u001b[0m, in \u001b[0;36mModule._call_impl\u001b[0;34m(self, *args, **kwargs)\u001b[0m\n\u001b[1;32m   1746\u001b[0m \u001b[38;5;66;03m# If we don't have any hooks, we want to skip the rest of the logic in\u001b[39;00m\n\u001b[1;32m   1747\u001b[0m \u001b[38;5;66;03m# this function, and just call forward.\u001b[39;00m\n\u001b[1;32m   1748\u001b[0m \u001b[38;5;28;01mif\u001b[39;00m \u001b[38;5;129;01mnot\u001b[39;00m (\u001b[38;5;28mself\u001b[39m\u001b[38;5;241m.\u001b[39m_backward_hooks \u001b[38;5;129;01mor\u001b[39;00m \u001b[38;5;28mself\u001b[39m\u001b[38;5;241m.\u001b[39m_backward_pre_hooks \u001b[38;5;129;01mor\u001b[39;00m \u001b[38;5;28mself\u001b[39m\u001b[38;5;241m.\u001b[39m_forward_hooks \u001b[38;5;129;01mor\u001b[39;00m \u001b[38;5;28mself\u001b[39m\u001b[38;5;241m.\u001b[39m_forward_pre_hooks\n\u001b[1;32m   1749\u001b[0m         \u001b[38;5;129;01mor\u001b[39;00m _global_backward_pre_hooks \u001b[38;5;129;01mor\u001b[39;00m _global_backward_hooks\n\u001b[1;32m   1750\u001b[0m         \u001b[38;5;129;01mor\u001b[39;00m _global_forward_hooks \u001b[38;5;129;01mor\u001b[39;00m _global_forward_pre_hooks):\n\u001b[0;32m-> 1751\u001b[0m     \u001b[38;5;28;01mreturn\u001b[39;00m \u001b[43mforward_call\u001b[49m\u001b[43m(\u001b[49m\u001b[38;5;241;43m*\u001b[39;49m\u001b[43margs\u001b[49m\u001b[43m,\u001b[49m\u001b[43m \u001b[49m\u001b[38;5;241;43m*\u001b[39;49m\u001b[38;5;241;43m*\u001b[39;49m\u001b[43mkwargs\u001b[49m\u001b[43m)\u001b[49m\n\u001b[1;32m   1753\u001b[0m result \u001b[38;5;241m=\u001b[39m \u001b[38;5;28;01mNone\u001b[39;00m\n\u001b[1;32m   1754\u001b[0m called_always_called_hooks \u001b[38;5;241m=\u001b[39m \u001b[38;5;28mset\u001b[39m()\n",
      "File \u001b[0;32m~/IHC_biomarker/code/ihc_cell_count/nets/nn.py:257\u001b[0m, in \u001b[0;36mHead.forward\u001b[0;34m(self, x)\u001b[0m\n\u001b[1;32m    255\u001b[0m \u001b[38;5;28;01mdef\u001b[39;00m \u001b[38;5;21mforward\u001b[39m(\u001b[38;5;28mself\u001b[39m, x):\n\u001b[1;32m    256\u001b[0m     \u001b[38;5;28;01mfor\u001b[39;00m i, (box, \u001b[38;5;28mcls\u001b[39m) \u001b[38;5;129;01min\u001b[39;00m \u001b[38;5;28menumerate\u001b[39m(\u001b[38;5;28mzip\u001b[39m(\u001b[38;5;28mself\u001b[39m\u001b[38;5;241m.\u001b[39mbox, \u001b[38;5;28mself\u001b[39m\u001b[38;5;241m.\u001b[39mcls)):\n\u001b[0;32m--> 257\u001b[0m         x[i] \u001b[38;5;241m=\u001b[39m torch\u001b[38;5;241m.\u001b[39mcat(tensors\u001b[38;5;241m=\u001b[39m(\u001b[43mbox\u001b[49m\u001b[43m(\u001b[49m\u001b[43mx\u001b[49m\u001b[43m[\u001b[49m\u001b[43mi\u001b[49m\u001b[43m]\u001b[49m\u001b[43m)\u001b[49m, \u001b[38;5;28mcls\u001b[39m(x[i])), dim\u001b[38;5;241m=\u001b[39m\u001b[38;5;241m1\u001b[39m)\n\u001b[1;32m    258\u001b[0m     \u001b[38;5;28;01mif\u001b[39;00m \u001b[38;5;28mself\u001b[39m\u001b[38;5;241m.\u001b[39mtraining:\n\u001b[1;32m    259\u001b[0m         \u001b[38;5;28;01mreturn\u001b[39;00m x\n",
      "File \u001b[0;32m/usr/local/lib/python3.12/dist-packages/torch/nn/modules/module.py:1740\u001b[0m, in \u001b[0;36mModule._wrapped_call_impl\u001b[0;34m(self, *args, **kwargs)\u001b[0m\n\u001b[1;32m   1738\u001b[0m     \u001b[38;5;28;01mreturn\u001b[39;00m \u001b[38;5;28mself\u001b[39m\u001b[38;5;241m.\u001b[39m_compiled_call_impl(\u001b[38;5;241m*\u001b[39margs, \u001b[38;5;241m*\u001b[39m\u001b[38;5;241m*\u001b[39mkwargs)  \u001b[38;5;66;03m# type: ignore[misc]\u001b[39;00m\n\u001b[1;32m   1739\u001b[0m \u001b[38;5;28;01melse\u001b[39;00m:\n\u001b[0;32m-> 1740\u001b[0m     \u001b[38;5;28;01mreturn\u001b[39;00m \u001b[38;5;28;43mself\u001b[39;49m\u001b[38;5;241;43m.\u001b[39;49m\u001b[43m_call_impl\u001b[49m\u001b[43m(\u001b[49m\u001b[38;5;241;43m*\u001b[39;49m\u001b[43margs\u001b[49m\u001b[43m,\u001b[49m\u001b[43m \u001b[49m\u001b[38;5;241;43m*\u001b[39;49m\u001b[38;5;241;43m*\u001b[39;49m\u001b[43mkwargs\u001b[49m\u001b[43m)\u001b[49m\n",
      "File \u001b[0;32m/usr/local/lib/python3.12/dist-packages/torch/nn/modules/module.py:1751\u001b[0m, in \u001b[0;36mModule._call_impl\u001b[0;34m(self, *args, **kwargs)\u001b[0m\n\u001b[1;32m   1746\u001b[0m \u001b[38;5;66;03m# If we don't have any hooks, we want to skip the rest of the logic in\u001b[39;00m\n\u001b[1;32m   1747\u001b[0m \u001b[38;5;66;03m# this function, and just call forward.\u001b[39;00m\n\u001b[1;32m   1748\u001b[0m \u001b[38;5;28;01mif\u001b[39;00m \u001b[38;5;129;01mnot\u001b[39;00m (\u001b[38;5;28mself\u001b[39m\u001b[38;5;241m.\u001b[39m_backward_hooks \u001b[38;5;129;01mor\u001b[39;00m \u001b[38;5;28mself\u001b[39m\u001b[38;5;241m.\u001b[39m_backward_pre_hooks \u001b[38;5;129;01mor\u001b[39;00m \u001b[38;5;28mself\u001b[39m\u001b[38;5;241m.\u001b[39m_forward_hooks \u001b[38;5;129;01mor\u001b[39;00m \u001b[38;5;28mself\u001b[39m\u001b[38;5;241m.\u001b[39m_forward_pre_hooks\n\u001b[1;32m   1749\u001b[0m         \u001b[38;5;129;01mor\u001b[39;00m _global_backward_pre_hooks \u001b[38;5;129;01mor\u001b[39;00m _global_backward_hooks\n\u001b[1;32m   1750\u001b[0m         \u001b[38;5;129;01mor\u001b[39;00m _global_forward_hooks \u001b[38;5;129;01mor\u001b[39;00m _global_forward_pre_hooks):\n\u001b[0;32m-> 1751\u001b[0m     \u001b[38;5;28;01mreturn\u001b[39;00m \u001b[43mforward_call\u001b[49m\u001b[43m(\u001b[49m\u001b[38;5;241;43m*\u001b[39;49m\u001b[43margs\u001b[49m\u001b[43m,\u001b[49m\u001b[43m \u001b[49m\u001b[38;5;241;43m*\u001b[39;49m\u001b[38;5;241;43m*\u001b[39;49m\u001b[43mkwargs\u001b[49m\u001b[43m)\u001b[49m\n\u001b[1;32m   1753\u001b[0m result \u001b[38;5;241m=\u001b[39m \u001b[38;5;28;01mNone\u001b[39;00m\n\u001b[1;32m   1754\u001b[0m called_always_called_hooks \u001b[38;5;241m=\u001b[39m \u001b[38;5;28mset\u001b[39m()\n",
      "File \u001b[0;32m/usr/local/lib/python3.12/dist-packages/torch/nn/modules/container.py:250\u001b[0m, in \u001b[0;36mSequential.forward\u001b[0;34m(self, input)\u001b[0m\n\u001b[1;32m    248\u001b[0m \u001b[38;5;28;01mdef\u001b[39;00m \u001b[38;5;21mforward\u001b[39m(\u001b[38;5;28mself\u001b[39m, \u001b[38;5;28minput\u001b[39m):\n\u001b[1;32m    249\u001b[0m     \u001b[38;5;28;01mfor\u001b[39;00m module \u001b[38;5;129;01min\u001b[39;00m \u001b[38;5;28mself\u001b[39m:\n\u001b[0;32m--> 250\u001b[0m         \u001b[38;5;28minput\u001b[39m \u001b[38;5;241m=\u001b[39m \u001b[43mmodule\u001b[49m\u001b[43m(\u001b[49m\u001b[38;5;28;43minput\u001b[39;49m\u001b[43m)\u001b[49m\n\u001b[1;32m    251\u001b[0m     \u001b[38;5;28;01mreturn\u001b[39;00m \u001b[38;5;28minput\u001b[39m\n",
      "File \u001b[0;32m/usr/local/lib/python3.12/dist-packages/torch/nn/modules/module.py:1740\u001b[0m, in \u001b[0;36mModule._wrapped_call_impl\u001b[0;34m(self, *args, **kwargs)\u001b[0m\n\u001b[1;32m   1738\u001b[0m     \u001b[38;5;28;01mreturn\u001b[39;00m \u001b[38;5;28mself\u001b[39m\u001b[38;5;241m.\u001b[39m_compiled_call_impl(\u001b[38;5;241m*\u001b[39margs, \u001b[38;5;241m*\u001b[39m\u001b[38;5;241m*\u001b[39mkwargs)  \u001b[38;5;66;03m# type: ignore[misc]\u001b[39;00m\n\u001b[1;32m   1739\u001b[0m \u001b[38;5;28;01melse\u001b[39;00m:\n\u001b[0;32m-> 1740\u001b[0m     \u001b[38;5;28;01mreturn\u001b[39;00m \u001b[38;5;28;43mself\u001b[39;49m\u001b[38;5;241;43m.\u001b[39;49m\u001b[43m_call_impl\u001b[49m\u001b[43m(\u001b[49m\u001b[38;5;241;43m*\u001b[39;49m\u001b[43margs\u001b[49m\u001b[43m,\u001b[49m\u001b[43m \u001b[49m\u001b[38;5;241;43m*\u001b[39;49m\u001b[38;5;241;43m*\u001b[39;49m\u001b[43mkwargs\u001b[49m\u001b[43m)\u001b[49m\n",
      "File \u001b[0;32m/usr/local/lib/python3.12/dist-packages/torch/nn/modules/module.py:1751\u001b[0m, in \u001b[0;36mModule._call_impl\u001b[0;34m(self, *args, **kwargs)\u001b[0m\n\u001b[1;32m   1746\u001b[0m \u001b[38;5;66;03m# If we don't have any hooks, we want to skip the rest of the logic in\u001b[39;00m\n\u001b[1;32m   1747\u001b[0m \u001b[38;5;66;03m# this function, and just call forward.\u001b[39;00m\n\u001b[1;32m   1748\u001b[0m \u001b[38;5;28;01mif\u001b[39;00m \u001b[38;5;129;01mnot\u001b[39;00m (\u001b[38;5;28mself\u001b[39m\u001b[38;5;241m.\u001b[39m_backward_hooks \u001b[38;5;129;01mor\u001b[39;00m \u001b[38;5;28mself\u001b[39m\u001b[38;5;241m.\u001b[39m_backward_pre_hooks \u001b[38;5;129;01mor\u001b[39;00m \u001b[38;5;28mself\u001b[39m\u001b[38;5;241m.\u001b[39m_forward_hooks \u001b[38;5;129;01mor\u001b[39;00m \u001b[38;5;28mself\u001b[39m\u001b[38;5;241m.\u001b[39m_forward_pre_hooks\n\u001b[1;32m   1749\u001b[0m         \u001b[38;5;129;01mor\u001b[39;00m _global_backward_pre_hooks \u001b[38;5;129;01mor\u001b[39;00m _global_backward_hooks\n\u001b[1;32m   1750\u001b[0m         \u001b[38;5;129;01mor\u001b[39;00m _global_forward_hooks \u001b[38;5;129;01mor\u001b[39;00m _global_forward_pre_hooks):\n\u001b[0;32m-> 1751\u001b[0m     \u001b[38;5;28;01mreturn\u001b[39;00m \u001b[43mforward_call\u001b[49m\u001b[43m(\u001b[49m\u001b[38;5;241;43m*\u001b[39;49m\u001b[43margs\u001b[49m\u001b[43m,\u001b[49m\u001b[43m \u001b[49m\u001b[38;5;241;43m*\u001b[39;49m\u001b[38;5;241;43m*\u001b[39;49m\u001b[43mkwargs\u001b[49m\u001b[43m)\u001b[49m\n\u001b[1;32m   1753\u001b[0m result \u001b[38;5;241m=\u001b[39m \u001b[38;5;28;01mNone\u001b[39;00m\n\u001b[1;32m   1754\u001b[0m called_always_called_hooks \u001b[38;5;241m=\u001b[39m \u001b[38;5;28mset\u001b[39m()\n",
      "File \u001b[0;32m~/IHC_biomarker/code/ihc_cell_count/nets/nn.py:36\u001b[0m, in \u001b[0;36mConv.forward\u001b[0;34m(self, x)\u001b[0m\n\u001b[1;32m     35\u001b[0m \u001b[38;5;28;01mdef\u001b[39;00m \u001b[38;5;21mforward\u001b[39m(\u001b[38;5;28mself\u001b[39m, x):\n\u001b[0;32m---> 36\u001b[0m     \u001b[38;5;28;01mreturn\u001b[39;00m \u001b[38;5;28mself\u001b[39m\u001b[38;5;241m.\u001b[39mrelu(\u001b[38;5;28mself\u001b[39m\u001b[38;5;241m.\u001b[39mnorm(\u001b[38;5;28;43mself\u001b[39;49m\u001b[38;5;241;43m.\u001b[39;49m\u001b[43mconv\u001b[49m\u001b[43m(\u001b[49m\u001b[43mx\u001b[49m\u001b[43m)\u001b[49m))\n",
      "File \u001b[0;32m/usr/local/lib/python3.12/dist-packages/torch/nn/modules/module.py:1740\u001b[0m, in \u001b[0;36mModule._wrapped_call_impl\u001b[0;34m(self, *args, **kwargs)\u001b[0m\n\u001b[1;32m   1738\u001b[0m     \u001b[38;5;28;01mreturn\u001b[39;00m \u001b[38;5;28mself\u001b[39m\u001b[38;5;241m.\u001b[39m_compiled_call_impl(\u001b[38;5;241m*\u001b[39margs, \u001b[38;5;241m*\u001b[39m\u001b[38;5;241m*\u001b[39mkwargs)  \u001b[38;5;66;03m# type: ignore[misc]\u001b[39;00m\n\u001b[1;32m   1739\u001b[0m \u001b[38;5;28;01melse\u001b[39;00m:\n\u001b[0;32m-> 1740\u001b[0m     \u001b[38;5;28;01mreturn\u001b[39;00m \u001b[38;5;28;43mself\u001b[39;49m\u001b[38;5;241;43m.\u001b[39;49m\u001b[43m_call_impl\u001b[49m\u001b[43m(\u001b[49m\u001b[38;5;241;43m*\u001b[39;49m\u001b[43margs\u001b[49m\u001b[43m,\u001b[49m\u001b[43m \u001b[49m\u001b[38;5;241;43m*\u001b[39;49m\u001b[38;5;241;43m*\u001b[39;49m\u001b[43mkwargs\u001b[49m\u001b[43m)\u001b[49m\n",
      "File \u001b[0;32m/usr/local/lib/python3.12/dist-packages/torch/nn/modules/module.py:1751\u001b[0m, in \u001b[0;36mModule._call_impl\u001b[0;34m(self, *args, **kwargs)\u001b[0m\n\u001b[1;32m   1746\u001b[0m \u001b[38;5;66;03m# If we don't have any hooks, we want to skip the rest of the logic in\u001b[39;00m\n\u001b[1;32m   1747\u001b[0m \u001b[38;5;66;03m# this function, and just call forward.\u001b[39;00m\n\u001b[1;32m   1748\u001b[0m \u001b[38;5;28;01mif\u001b[39;00m \u001b[38;5;129;01mnot\u001b[39;00m (\u001b[38;5;28mself\u001b[39m\u001b[38;5;241m.\u001b[39m_backward_hooks \u001b[38;5;129;01mor\u001b[39;00m \u001b[38;5;28mself\u001b[39m\u001b[38;5;241m.\u001b[39m_backward_pre_hooks \u001b[38;5;129;01mor\u001b[39;00m \u001b[38;5;28mself\u001b[39m\u001b[38;5;241m.\u001b[39m_forward_hooks \u001b[38;5;129;01mor\u001b[39;00m \u001b[38;5;28mself\u001b[39m\u001b[38;5;241m.\u001b[39m_forward_pre_hooks\n\u001b[1;32m   1749\u001b[0m         \u001b[38;5;129;01mor\u001b[39;00m _global_backward_pre_hooks \u001b[38;5;129;01mor\u001b[39;00m _global_backward_hooks\n\u001b[1;32m   1750\u001b[0m         \u001b[38;5;129;01mor\u001b[39;00m _global_forward_hooks \u001b[38;5;129;01mor\u001b[39;00m _global_forward_pre_hooks):\n\u001b[0;32m-> 1751\u001b[0m     \u001b[38;5;28;01mreturn\u001b[39;00m \u001b[43mforward_call\u001b[49m\u001b[43m(\u001b[49m\u001b[38;5;241;43m*\u001b[39;49m\u001b[43margs\u001b[49m\u001b[43m,\u001b[49m\u001b[43m \u001b[49m\u001b[38;5;241;43m*\u001b[39;49m\u001b[38;5;241;43m*\u001b[39;49m\u001b[43mkwargs\u001b[49m\u001b[43m)\u001b[49m\n\u001b[1;32m   1753\u001b[0m result \u001b[38;5;241m=\u001b[39m \u001b[38;5;28;01mNone\u001b[39;00m\n\u001b[1;32m   1754\u001b[0m called_always_called_hooks \u001b[38;5;241m=\u001b[39m \u001b[38;5;28mset\u001b[39m()\n",
      "File \u001b[0;32m/usr/local/lib/python3.12/dist-packages/torch/nn/modules/conv.py:554\u001b[0m, in \u001b[0;36mConv2d.forward\u001b[0;34m(self, input)\u001b[0m\n\u001b[1;32m    553\u001b[0m \u001b[38;5;28;01mdef\u001b[39;00m \u001b[38;5;21mforward\u001b[39m(\u001b[38;5;28mself\u001b[39m, \u001b[38;5;28minput\u001b[39m: Tensor) \u001b[38;5;241m-\u001b[39m\u001b[38;5;241m>\u001b[39m Tensor:\n\u001b[0;32m--> 554\u001b[0m     \u001b[38;5;28;01mreturn\u001b[39;00m \u001b[38;5;28;43mself\u001b[39;49m\u001b[38;5;241;43m.\u001b[39;49m\u001b[43m_conv_forward\u001b[49m\u001b[43m(\u001b[49m\u001b[38;5;28;43minput\u001b[39;49m\u001b[43m,\u001b[49m\u001b[43m \u001b[49m\u001b[38;5;28;43mself\u001b[39;49m\u001b[38;5;241;43m.\u001b[39;49m\u001b[43mweight\u001b[49m\u001b[43m,\u001b[49m\u001b[43m \u001b[49m\u001b[38;5;28;43mself\u001b[39;49m\u001b[38;5;241;43m.\u001b[39;49m\u001b[43mbias\u001b[49m\u001b[43m)\u001b[49m\n",
      "File \u001b[0;32m/usr/local/lib/python3.12/dist-packages/torch/nn/modules/conv.py:549\u001b[0m, in \u001b[0;36mConv2d._conv_forward\u001b[0;34m(self, input, weight, bias)\u001b[0m\n\u001b[1;32m    537\u001b[0m \u001b[38;5;28;01mif\u001b[39;00m \u001b[38;5;28mself\u001b[39m\u001b[38;5;241m.\u001b[39mpadding_mode \u001b[38;5;241m!=\u001b[39m \u001b[38;5;124m\"\u001b[39m\u001b[38;5;124mzeros\u001b[39m\u001b[38;5;124m\"\u001b[39m:\n\u001b[1;32m    538\u001b[0m     \u001b[38;5;28;01mreturn\u001b[39;00m F\u001b[38;5;241m.\u001b[39mconv2d(\n\u001b[1;32m    539\u001b[0m         F\u001b[38;5;241m.\u001b[39mpad(\n\u001b[1;32m    540\u001b[0m             \u001b[38;5;28minput\u001b[39m, \u001b[38;5;28mself\u001b[39m\u001b[38;5;241m.\u001b[39m_reversed_padding_repeated_twice, mode\u001b[38;5;241m=\u001b[39m\u001b[38;5;28mself\u001b[39m\u001b[38;5;241m.\u001b[39mpadding_mode\n\u001b[0;32m   (...)\u001b[0m\n\u001b[1;32m    547\u001b[0m         \u001b[38;5;28mself\u001b[39m\u001b[38;5;241m.\u001b[39mgroups,\n\u001b[1;32m    548\u001b[0m     )\n\u001b[0;32m--> 549\u001b[0m \u001b[38;5;28;01mreturn\u001b[39;00m \u001b[43mF\u001b[49m\u001b[38;5;241;43m.\u001b[39;49m\u001b[43mconv2d\u001b[49m\u001b[43m(\u001b[49m\n\u001b[1;32m    550\u001b[0m \u001b[43m    \u001b[49m\u001b[38;5;28;43minput\u001b[39;49m\u001b[43m,\u001b[49m\u001b[43m \u001b[49m\u001b[43mweight\u001b[49m\u001b[43m,\u001b[49m\u001b[43m \u001b[49m\u001b[43mbias\u001b[49m\u001b[43m,\u001b[49m\u001b[43m \u001b[49m\u001b[38;5;28;43mself\u001b[39;49m\u001b[38;5;241;43m.\u001b[39;49m\u001b[43mstride\u001b[49m\u001b[43m,\u001b[49m\u001b[43m \u001b[49m\u001b[38;5;28;43mself\u001b[39;49m\u001b[38;5;241;43m.\u001b[39;49m\u001b[43mpadding\u001b[49m\u001b[43m,\u001b[49m\u001b[43m \u001b[49m\u001b[38;5;28;43mself\u001b[39;49m\u001b[38;5;241;43m.\u001b[39;49m\u001b[43mdilation\u001b[49m\u001b[43m,\u001b[49m\u001b[43m \u001b[49m\u001b[38;5;28;43mself\u001b[39;49m\u001b[38;5;241;43m.\u001b[39;49m\u001b[43mgroups\u001b[49m\n\u001b[1;32m    551\u001b[0m \u001b[43m\u001b[49m\u001b[43m)\u001b[49m\n",
      "\u001b[0;31mKeyboardInterrupt\u001b[0m: "
     ]
    },
    {
     "data": {
      "text/plain": [
       "<Figure size 1600x800 with 0 Axes>"
      ]
     },
     "metadata": {},
     "output_type": "display_data"
    },
    {
     "data": {
      "text/plain": [
       "<Figure size 1600x800 with 0 Axes>"
      ]
     },
     "metadata": {},
     "output_type": "display_data"
    },
    {
     "data": {
      "text/plain": [
       "<Figure size 1600x800 with 0 Axes>"
      ]
     },
     "metadata": {},
     "output_type": "display_data"
    },
    {
     "data": {
      "text/plain": [
       "<Figure size 1600x800 with 0 Axes>"
      ]
     },
     "metadata": {},
     "output_type": "display_data"
    },
    {
     "data": {
      "text/plain": [
       "<Figure size 1600x800 with 0 Axes>"
      ]
     },
     "metadata": {},
     "output_type": "display_data"
    },
    {
     "data": {
      "text/plain": [
       "<Figure size 1600x800 with 0 Axes>"
      ]
     },
     "metadata": {},
     "output_type": "display_data"
    },
    {
     "data": {
      "text/plain": [
       "<Figure size 1600x800 with 0 Axes>"
      ]
     },
     "metadata": {},
     "output_type": "display_data"
    },
    {
     "data": {
      "text/plain": [
       "<Figure size 1600x800 with 0 Axes>"
      ]
     },
     "metadata": {},
     "output_type": "display_data"
    }
   ],
   "source": [
    "from utils.valid import compute_validation_metrics, compute_validation_metrics_with_kappa, get_kappa_interpretation\n",
    "from utils.valid import visualize_ground_truth_and_prediction_separately\n",
    "from utils.valid import plot_training_progress\n",
    "\n",
    "\n",
    "# main.py의 train 함수를 참조한 개선된 학습 루프\n",
    "train_losses = []\n",
    "val_maps = []\n",
    "val_precisions = []\n",
    "val_recalls = []\n",
    "val_map50s = []\n",
    "val_kappas = []  # Cohen's Kappa 추가\n",
    "epochs = 10000\n",
    "\n",
    "# 체크포인트 저장을 위한 디렉토리 생성\n",
    "save_dir = '../../model/2class_yolov11/'\n",
    "os.makedirs(save_dir, exist_ok=True)\n",
    "#체크포인트 불러오기 \n",
    "checkpoint_path = os.path.join(save_dir, 'best_model.pt')\n",
    "if os.path.exists(checkpoint_path):\n",
    "    checkpoint = torch.load(checkpoint_path, map_location=device,weights_only=False)\n",
    "    model.load_state_dict(checkpoint['model_state_dict'])\n",
    "    \n",
    "# main.py 스타일의 설정들\n",
    "best_map = 0\n",
    "accumulate = max(round(64 / batch_size), 1)  # gradient accumulation steps\n",
    "amp_scale = torch.amp.GradScaler()  # mixed precision scaler\n",
    "\n",
    "print(f\"Gradient accumulation steps: {accumulate}\")\n",
    "\n",
    "for epoch in range(epochs):\n",
    "    # 훈련\n",
    "    model.train()\n",
    "    \n",
    "    # main.py 스타일의 평균 손실 추적\n",
    "    avg_box_loss = util.AverageMeter()\n",
    "    avg_cls_loss = util.AverageMeter()\n",
    "    avg_dfl_loss = util.AverageMeter()\n",
    "    \n",
    "    train_pbar = tqdm.tqdm(enumerate(loader), total=len(loader), desc=f'Epoch {epoch+1}/{epochs} Training')\n",
    "    \n",
    "    optimizer.zero_grad()\n",
    "    \n",
    "    for i, (images, targets) in train_pbar:\n",
    "        step = i + len(loader) * epoch\n",
    "        images = images.to(device).float() / 255\n",
    "        \n",
    "        # Forward pass with mixed precision\n",
    "        with torch.amp.autocast('cuda'):\n",
    "            outputs = model(images)\n",
    "            loss_box, loss_cls, loss_dfl = criterion(outputs, targets)\n",
    "        \n",
    "        # 평균 손실 업데이트\n",
    "        avg_box_loss.update(loss_box.item(), images.size(0))\n",
    "        avg_cls_loss.update(loss_cls.item(), images.size(0))\n",
    "        avg_dfl_loss.update(loss_dfl.item(), images.size(0))\n",
    "        \n",
    "        # Loss scaling for gradient accumulation\n",
    "        loss_box *= batch_size  # loss scaled by batch_size\n",
    "        loss_cls *= batch_size  # loss scaled by batch_size  \n",
    "        loss_dfl *= batch_size  # loss scaled by batch_size\n",
    "        \n",
    "        total_loss = loss_box + loss_cls + loss_dfl\n",
    "        \n",
    "        # Backward pass with gradient scaling\n",
    "        amp_scale.scale(total_loss).backward()\n",
    "        \n",
    "        # Gradient accumulation 및 optimization\n",
    "        if step % accumulate == 0:\n",
    "            # Gradient clipping 및 optimization\n",
    "            amp_scale.step(optimizer)\n",
    "            amp_scale.update()\n",
    "            optimizer.zero_grad()\n",
    "        \n",
    "        # GPU 메모리 동기화\n",
    "        torch.cuda.synchronize()\n",
    "        \n",
    "        # 진행률 표시 업데이트 (main.py 스타일)\n",
    "        memory = f'{torch.cuda.memory_reserved() / 1E9:.4g}G'\n",
    "        s = f'Memory: {memory} | Box: {avg_box_loss.avg:.3f} | Cls: {avg_cls_loss.avg:.3f} | DFL: {avg_dfl_loss.avg:.3f}'\n",
    "        train_pbar.set_description(f'Epoch {epoch+1}/{epochs} | {s}')\n",
    "    \n",
    "    # 에폭 평균 손실 계산\n",
    "    avg_train_loss = avg_box_loss.avg + avg_cls_loss.avg + avg_dfl_loss.avg\n",
    "    train_losses.append(avg_train_loss)\n",
    "    \n",
    "    # 검증 (Cohen's Kappa 포함)\n",
    "    precision, recall, map50, mean_ap, kappa = compute_validation_metrics_with_kappa(\n",
    "        model, val_loader, device, params\n",
    "    )\n",
    "    val_maps.append(mean_ap)\n",
    "    val_precisions.append(precision)\n",
    "    val_recalls.append(recall)\n",
    "    val_map50s.append(map50)\n",
    "    val_kappas.append(kappa)\n",
    "    \n",
    "    # F1-score 계산\n",
    "    f1_score = 2 * (precision * recall) / (precision + recall) if (precision + recall) > 0 else 0\n",
    "    \n",
    "    # 결과 출력 (Cohen's Kappa 포함)\n",
    "    print(f\"\\nEpoch {epoch+1}/{epochs} Results:\")\n",
    "    print(f\"  Train Loss - Box: {avg_box_loss.avg:.4f}, Cls: {avg_cls_loss.avg:.4f}, DFL: {avg_dfl_loss.avg:.4f}, Total: {avg_train_loss:.4f}\")\n",
    "    print(f\"  Validation - Precision: {precision:.4f}, Recall: {recall:.4f}, F1-score: {f1_score:.4f}\")\n",
    "    print(f\"  mAP@0.5: {map50:.4f}, mAP@0.5:0.95: {mean_ap:.4f}\")\n",
    "    print(f\"  Cohen's Kappa: {kappa:.4f} ({get_kappa_interpretation(kappa)})\")\n",
    "    print(\"-\" * 80)\n",
    "    \n",
    "    # 베스트 모델 저장 (mAP 기준)\n",
    "    if mean_ap > best_map:\n",
    "        best_map = mean_ap\n",
    "        save_checkpoint = {\n",
    "            'epoch': epoch,\n",
    "            'model_state_dict': model.state_dict(),\n",
    "            'optimizer_state_dict': optimizer.state_dict(),\n",
    "            'amp_scale_state_dict': amp_scale.state_dict(),\n",
    "            'train_loss': avg_train_loss,\n",
    "            'box_loss': avg_box_loss.avg,\n",
    "            'cls_loss': avg_cls_loss.avg,\n",
    "            'dfl_loss': avg_dfl_loss.avg,\n",
    "            'map': mean_ap,\n",
    "            'map50': map50,\n",
    "            'precision': precision,\n",
    "            'recall': recall,\n",
    "            'f1_score': f1_score,\n",
    "            'kappa': kappa,\n",
    "            'params': params\n",
    "        }\n",
    "        torch.save(save_checkpoint, os.path.join(save_dir, 'best_model.pt'))\n",
    "        print(f\"🎉 새로운 베스트 모델 저장! mAP: {mean_ap:.4f}, Kappa: {kappa:.4f}\")\n",
    "    \n",
    "    # 최신 모델도 저장 (main.py 스타일)\n",
    "    last_checkpoint = {\n",
    "        'epoch': epoch,\n",
    "        'model_state_dict': model.state_dict(),\n",
    "        'optimizer_state_dict': optimizer.state_dict(),\n",
    "        'amp_scale_state_dict': amp_scale.state_dict(),\n",
    "        'train_loss': avg_train_loss,\n",
    "        'box_loss': avg_box_loss.avg,\n",
    "        'cls_loss': avg_cls_loss.avg,\n",
    "        'dfl_loss': avg_dfl_loss.avg,\n",
    "        'map': mean_ap,\n",
    "        'map50': map50,\n",
    "        'precision': precision,\n",
    "        'recall': recall,\n",
    "        'f1_score': f1_score,\n",
    "        'kappa': kappa,\n",
    "        'params': params\n",
    "    }\n",
    "    torch.save(last_checkpoint, os.path.join(save_dir, 'last_model.pt'))\n",
    "    \n",
    "    # 100 에폭마다 학습 진행 그래프 생성 및 저장\n",
    "    if (epoch + 1) % 100 == 0:\n",
    "        try:\n",
    "            print(f\"\\n📊 Epoch {epoch+1} - 학습 진행 상황 그래프 생성 중...\")\n",
    "            plot_training_progress(train_losses, val_maps, val_precisions, val_recalls, val_map50s, epoch+1, save_dir)\n",
    "        except Exception as e:\n",
    "            print(f\"그래프 생성 중 오류: {e}\")\n",
    "    \n",
    "    # 개선된 검증 이미지 시각화 (매 10 에폭마다) - 실제 라벨과 예측 라벨을 별도 figure로 표시\n",
    "    if (epoch+1) % 10 == 0:\n",
    "        try:\n",
    "            # 여러 샘플에 대해 시각화\n",
    "            num_samples = 1 # 샘플 수를 1개\n",
    "            for sample_idx in range(num_samples):\n",
    "                print(f\"\\n📊 Epoch {epoch+1} - 검증 샘플 {sample_idx+1}/{num_samples}:\")\n",
    "                print(\"=\" * 60)\n",
    "                \n",
    "                # 실제 라벨과 예측 라벨을 별도 figure로 표시\n",
    "                sample_idx = random.randint(0, len(val_dataset)-1)\n",
    "                visualize_ground_truth_and_prediction_separately(\n",
    "                    model, val_dataset, idx=sample_idx, \n",
    "                    epoch=epoch+1, save_dir=save_dir\n",
    "                )\n",
    "                \n",
    "        except Exception as e:\n",
    "            print(f\"시각화 중 오류: {e}\")\n",
    "\n",
    "print(\"🎯 학습 완료!\")\n",
    "print(f\"최종 베스트 mAP: {best_map:.4f}\")\n",
    "print(f\"모델 저장 위치: {save_dir}\")\n",
    "print(f\"베스트 모델: {os.path.join(save_dir, 'best_model.pt')}\")\n",
    "print(f\"최신 모델: {os.path.join(save_dir, 'last_model.pt')}\")\n",
    "\n",
    "# 최종 성능 요약\n",
    "if val_kappas:\n",
    "    final_kappa = val_kappas[-1]\n",
    "    final_map = val_maps[-1]\n",
    "    final_precision = val_precisions[-1]\n",
    "    final_recall = val_recalls[-1]\n",
    "    final_f1 = 2 * (final_precision * final_recall) / (final_precision + final_recall) if (final_precision + final_recall) > 0 else 0\n",
    "    \n",
    "    print(f\"\\n📊 최종 성능 요약:\")\n",
    "    print(f\"  mAP@0.5:0.95: {final_map:.4f}\")\n",
    "    print(f\"  Cohen's Kappa: {final_kappa:.4f} ({get_kappa_interpretation(final_kappa)})\")\n",
    "    print(f\"  F1-score: {final_f1:.4f}\")\n",
    "    print(f\"  Precision: {final_precision:.4f}\")\n",
    "    print(f\"  Recall: {final_recall:.4f}\")"
   ]
  },
  {
   "cell_type": "code",
   "execution_count": null,
   "id": "6bbce59b",
   "metadata": {},
   "outputs": [],
   "source": [
    "# Cohen's Kappa 관련 함수들을 valid.py에서 import\n",
    "from utils.valid import compute_validation_metrics_with_kappa, get_kappa_interpretation, quick_kappa_test\n",
    "\n",
    "# 현재 모델의 빠른 Cohen's Kappa 테스트\n",
    "print(\"🔍 현재 모델의 Cohen's Kappa 빠른 측정...\")\n",
    "current_kappa = quick_kappa_test(model, val_loader, device)"
   ]
  }
 ],
 "metadata": {
  "kernelspec": {
   "display_name": "Python 3",
   "language": "python",
   "name": "python3"
  },
  "language_info": {
   "codemirror_mode": {
    "name": "ipython",
    "version": 3
   },
   "file_extension": ".py",
   "mimetype": "text/x-python",
   "name": "python",
   "nbconvert_exporter": "python",
   "pygments_lexer": "ipython3",
   "version": "3.12.3"
  }
 },
 "nbformat": 4,
 "nbformat_minor": 5
}
