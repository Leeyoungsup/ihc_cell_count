{
 "cells": [
  {
   "cell_type": "code",
   "execution_count": 3,
   "id": "7e0d86dd",
   "metadata": {},
   "outputs": [],
   "source": [
    "import json\n",
    "import matplotlib.pyplot as plt\n",
    "import os\n",
    "from tqdm import tqdm"
   ]
  },
  {
   "cell_type": "code",
   "execution_count": 4,
   "id": "a2e256b8",
   "metadata": {},
   "outputs": [
    {
     "name": "stderr",
     "output_type": "stream",
     "text": [
      "100%|██████████| 845509/845509 [00:01<00:00, 602498.70it/s]\n"
     ]
    }
   ],
   "source": [
    "\n",
    "label=json.load(open('../../data/IGNITE/annotations/pdl1/pdl1/pdl1_annotations.json'))\n",
    "annotations_label=[]\n",
    "label_category=[{'id': 1, 'name': 'pd-l1 negative tumor cell'},\n",
    "  {'id': 2, 'name': 'pd-l1 positive tumor cell'},\n",
    "  {'id': 3, 'name': 'non-tumor cell'}]\n",
    "for i in range(len(label['images'])):\n",
    "    annotations_label.append({'image':label['images'][i],\n",
    "                              'annotations':[]})\n",
    "\n",
    "for i in tqdm(range(len(label['annotations']))):\n",
    "    image_id=label['annotations'][i]['image_id']\n",
    "    annotations_label[image_id]['annotations'].append({'category_id':label['annotations'][i]['category_id'],\n",
    "                                                        'bbox':label['annotations'][i]['bbox']})"
   ]
  },
  {
   "cell_type": "code",
   "execution_count": null,
   "id": "f7045b56",
   "metadata": {},
   "outputs": [
    {
     "name": "stdout",
     "output_type": "stream",
     "text": [
      "Saved 344 json files to ../../data/IGNITE/annotations/pdl1/individual/\n"
     ]
    }
   ],
   "source": [
    "output_dir = '../../data/IGNITE/annotations/pdl1/individual/'\n",
    "os.makedirs(output_dir, exist_ok=True)\n",
    "\n",
    "for item in annotations_label:\n",
    "    file_name = item['image']['file_name']\n",
    "    json_name = os.path.splitext(file_name)[0] + '.json'\n",
    "    with open(os.path.join(output_dir, json_name), 'w') as f:\n",
    "        json.dump(item, f, indent=2)\n",
    "print(f\"Saved {len(annotations_label)} json files to {output_dir}\")"
   ]
  }
 ],
 "metadata": {
  "kernelspec": {
   "display_name": "Python 3",
   "language": "python",
   "name": "python3"
  },
  "language_info": {
   "codemirror_mode": {
    "name": "ipython",
    "version": 3
   },
   "file_extension": ".py",
   "mimetype": "text/x-python",
   "name": "python",
   "nbconvert_exporter": "python",
   "pygments_lexer": "ipython3",
   "version": "3.12.3"
  }
 },
 "nbformat": 4,
 "nbformat_minor": 5
}
